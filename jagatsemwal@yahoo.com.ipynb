{
  "nbformat": 4,
  "nbformat_minor": 0,
  "metadata": {
    "colab": {
      "name": "Analysis on Used Cars Final.ipynb",
      "provenance": [],
      "collapsed_sections": []
    },
    "kernelspec": {
      "name": "python3",
      "display_name": "Python 3"
    },
    "widgets": {
      "application/vnd.jupyter.widget-state+json": {
        "6e1c2bbece394911beda3677e78fe5cf": {
          "model_module": "@jupyter-widgets/controls",
          "model_name": "HBoxModel",
          "model_module_version": "1.5.0",
          "state": {
            "_view_name": "HBoxView",
            "_dom_classes": [],
            "_model_name": "HBoxModel",
            "_view_module": "@jupyter-widgets/controls",
            "_model_module_version": "1.5.0",
            "_view_count": null,
            "_view_module_version": "1.5.0",
            "box_style": "",
            "layout": "IPY_MODEL_9c7efd418c6f4916ae3af06b779497c3",
            "_model_module": "@jupyter-widgets/controls",
            "children": [
              "IPY_MODEL_19c1d7a2b1504d2bb15546c007ad654e",
              "IPY_MODEL_920eefacdc4f4c25bc1721f42643d206",
              "IPY_MODEL_28c7976eafdc4532be6c0c2f359a445c"
            ]
          }
        },
        "9c7efd418c6f4916ae3af06b779497c3": {
          "model_module": "@jupyter-widgets/base",
          "model_name": "LayoutModel",
          "model_module_version": "1.2.0",
          "state": {
            "_view_name": "LayoutView",
            "grid_template_rows": null,
            "right": null,
            "justify_content": null,
            "_view_module": "@jupyter-widgets/base",
            "overflow": null,
            "_model_module_version": "1.2.0",
            "_view_count": null,
            "flex_flow": null,
            "width": null,
            "min_width": null,
            "border": null,
            "align_items": null,
            "bottom": null,
            "_model_module": "@jupyter-widgets/base",
            "top": null,
            "grid_column": null,
            "overflow_y": null,
            "overflow_x": null,
            "grid_auto_flow": null,
            "grid_area": null,
            "grid_template_columns": null,
            "flex": null,
            "_model_name": "LayoutModel",
            "justify_items": null,
            "grid_row": null,
            "max_height": null,
            "align_content": null,
            "visibility": null,
            "align_self": null,
            "height": null,
            "min_height": null,
            "padding": null,
            "grid_auto_rows": null,
            "grid_gap": null,
            "max_width": null,
            "order": null,
            "_view_module_version": "1.2.0",
            "grid_template_areas": null,
            "object_position": null,
            "object_fit": null,
            "grid_auto_columns": null,
            "margin": null,
            "display": null,
            "left": null
          }
        },
        "19c1d7a2b1504d2bb15546c007ad654e": {
          "model_module": "@jupyter-widgets/controls",
          "model_name": "HTMLModel",
          "model_module_version": "1.5.0",
          "state": {
            "_view_name": "HTMLView",
            "style": "IPY_MODEL_191e91e6b728411ba662cc124578816d",
            "_dom_classes": [],
            "description": "",
            "_model_name": "HTMLModel",
            "placeholder": "​",
            "_view_module": "@jupyter-widgets/controls",
            "_model_module_version": "1.5.0",
            "value": "Summarize dataset: 100%",
            "_view_count": null,
            "_view_module_version": "1.5.0",
            "description_tooltip": null,
            "_model_module": "@jupyter-widgets/controls",
            "layout": "IPY_MODEL_27923475935143a2b39a1094d7027195"
          }
        },
        "920eefacdc4f4c25bc1721f42643d206": {
          "model_module": "@jupyter-widgets/controls",
          "model_name": "FloatProgressModel",
          "model_module_version": "1.5.0",
          "state": {
            "_view_name": "ProgressView",
            "style": "IPY_MODEL_29ddf0dc0c334cf1a99eea0798366047",
            "_dom_classes": [],
            "description": "",
            "_model_name": "FloatProgressModel",
            "bar_style": "success",
            "max": 5,
            "_view_module": "@jupyter-widgets/controls",
            "_model_module_version": "1.5.0",
            "value": 5,
            "_view_count": null,
            "_view_module_version": "1.5.0",
            "orientation": "horizontal",
            "min": 0,
            "description_tooltip": null,
            "_model_module": "@jupyter-widgets/controls",
            "layout": "IPY_MODEL_56d852ad47694605b601ad584677b937"
          }
        },
        "28c7976eafdc4532be6c0c2f359a445c": {
          "model_module": "@jupyter-widgets/controls",
          "model_name": "HTMLModel",
          "model_module_version": "1.5.0",
          "state": {
            "_view_name": "HTMLView",
            "style": "IPY_MODEL_4ef0d02493ef4ef3aba91cd64589278f",
            "_dom_classes": [],
            "description": "",
            "_model_name": "HTMLModel",
            "placeholder": "​",
            "_view_module": "@jupyter-widgets/controls",
            "_model_module_version": "1.5.0",
            "value": " 41/41 [00:07&lt;00:00,  5.13it/s, Completed]",
            "_view_count": null,
            "_view_module_version": "1.5.0",
            "description_tooltip": null,
            "_model_module": "@jupyter-widgets/controls",
            "layout": "IPY_MODEL_db38d2fd77984aad92959c724381df19"
          }
        },
        "191e91e6b728411ba662cc124578816d": {
          "model_module": "@jupyter-widgets/controls",
          "model_name": "DescriptionStyleModel",
          "model_module_version": "1.5.0",
          "state": {
            "_view_name": "StyleView",
            "_model_name": "DescriptionStyleModel",
            "description_width": "",
            "_view_module": "@jupyter-widgets/base",
            "_model_module_version": "1.5.0",
            "_view_count": null,
            "_view_module_version": "1.2.0",
            "_model_module": "@jupyter-widgets/controls"
          }
        },
        "27923475935143a2b39a1094d7027195": {
          "model_module": "@jupyter-widgets/base",
          "model_name": "LayoutModel",
          "model_module_version": "1.2.0",
          "state": {
            "_view_name": "LayoutView",
            "grid_template_rows": null,
            "right": null,
            "justify_content": null,
            "_view_module": "@jupyter-widgets/base",
            "overflow": null,
            "_model_module_version": "1.2.0",
            "_view_count": null,
            "flex_flow": null,
            "width": null,
            "min_width": null,
            "border": null,
            "align_items": null,
            "bottom": null,
            "_model_module": "@jupyter-widgets/base",
            "top": null,
            "grid_column": null,
            "overflow_y": null,
            "overflow_x": null,
            "grid_auto_flow": null,
            "grid_area": null,
            "grid_template_columns": null,
            "flex": null,
            "_model_name": "LayoutModel",
            "justify_items": null,
            "grid_row": null,
            "max_height": null,
            "align_content": null,
            "visibility": null,
            "align_self": null,
            "height": null,
            "min_height": null,
            "padding": null,
            "grid_auto_rows": null,
            "grid_gap": null,
            "max_width": null,
            "order": null,
            "_view_module_version": "1.2.0",
            "grid_template_areas": null,
            "object_position": null,
            "object_fit": null,
            "grid_auto_columns": null,
            "margin": null,
            "display": null,
            "left": null
          }
        },
        "29ddf0dc0c334cf1a99eea0798366047": {
          "model_module": "@jupyter-widgets/controls",
          "model_name": "ProgressStyleModel",
          "model_module_version": "1.5.0",
          "state": {
            "_view_name": "StyleView",
            "_model_name": "ProgressStyleModel",
            "description_width": "",
            "_view_module": "@jupyter-widgets/base",
            "_model_module_version": "1.5.0",
            "_view_count": null,
            "_view_module_version": "1.2.0",
            "bar_color": null,
            "_model_module": "@jupyter-widgets/controls"
          }
        },
        "56d852ad47694605b601ad584677b937": {
          "model_module": "@jupyter-widgets/base",
          "model_name": "LayoutModel",
          "model_module_version": "1.2.0",
          "state": {
            "_view_name": "LayoutView",
            "grid_template_rows": null,
            "right": null,
            "justify_content": null,
            "_view_module": "@jupyter-widgets/base",
            "overflow": null,
            "_model_module_version": "1.2.0",
            "_view_count": null,
            "flex_flow": null,
            "width": null,
            "min_width": null,
            "border": null,
            "align_items": null,
            "bottom": null,
            "_model_module": "@jupyter-widgets/base",
            "top": null,
            "grid_column": null,
            "overflow_y": null,
            "overflow_x": null,
            "grid_auto_flow": null,
            "grid_area": null,
            "grid_template_columns": null,
            "flex": null,
            "_model_name": "LayoutModel",
            "justify_items": null,
            "grid_row": null,
            "max_height": null,
            "align_content": null,
            "visibility": null,
            "align_self": null,
            "height": null,
            "min_height": null,
            "padding": null,
            "grid_auto_rows": null,
            "grid_gap": null,
            "max_width": null,
            "order": null,
            "_view_module_version": "1.2.0",
            "grid_template_areas": null,
            "object_position": null,
            "object_fit": null,
            "grid_auto_columns": null,
            "margin": null,
            "display": null,
            "left": null
          }
        },
        "4ef0d02493ef4ef3aba91cd64589278f": {
          "model_module": "@jupyter-widgets/controls",
          "model_name": "DescriptionStyleModel",
          "model_module_version": "1.5.0",
          "state": {
            "_view_name": "StyleView",
            "_model_name": "DescriptionStyleModel",
            "description_width": "",
            "_view_module": "@jupyter-widgets/base",
            "_model_module_version": "1.5.0",
            "_view_count": null,
            "_view_module_version": "1.2.0",
            "_model_module": "@jupyter-widgets/controls"
          }
        },
        "db38d2fd77984aad92959c724381df19": {
          "model_module": "@jupyter-widgets/base",
          "model_name": "LayoutModel",
          "model_module_version": "1.2.0",
          "state": {
            "_view_name": "LayoutView",
            "grid_template_rows": null,
            "right": null,
            "justify_content": null,
            "_view_module": "@jupyter-widgets/base",
            "overflow": null,
            "_model_module_version": "1.2.0",
            "_view_count": null,
            "flex_flow": null,
            "width": null,
            "min_width": null,
            "border": null,
            "align_items": null,
            "bottom": null,
            "_model_module": "@jupyter-widgets/base",
            "top": null,
            "grid_column": null,
            "overflow_y": null,
            "overflow_x": null,
            "grid_auto_flow": null,
            "grid_area": null,
            "grid_template_columns": null,
            "flex": null,
            "_model_name": "LayoutModel",
            "justify_items": null,
            "grid_row": null,
            "max_height": null,
            "align_content": null,
            "visibility": null,
            "align_self": null,
            "height": null,
            "min_height": null,
            "padding": null,
            "grid_auto_rows": null,
            "grid_gap": null,
            "max_width": null,
            "order": null,
            "_view_module_version": "1.2.0",
            "grid_template_areas": null,
            "object_position": null,
            "object_fit": null,
            "grid_auto_columns": null,
            "margin": null,
            "display": null,
            "left": null
          }
        },
        "bec8a105c8fc45fb829709cd869a36fa": {
          "model_module": "@jupyter-widgets/controls",
          "model_name": "HBoxModel",
          "model_module_version": "1.5.0",
          "state": {
            "_view_name": "HBoxView",
            "_dom_classes": [],
            "_model_name": "HBoxModel",
            "_view_module": "@jupyter-widgets/controls",
            "_model_module_version": "1.5.0",
            "_view_count": null,
            "_view_module_version": "1.5.0",
            "box_style": "",
            "layout": "IPY_MODEL_9ccb1a4588924b6cb0070ba643fe384e",
            "_model_module": "@jupyter-widgets/controls",
            "children": [
              "IPY_MODEL_d84a1d7fb16e4439ab69053f22e72ca3",
              "IPY_MODEL_8af29e1ca32741e2bf3c631b08023cc9",
              "IPY_MODEL_0c8a874ef5014733a02ff21a52558aa3"
            ]
          }
        },
        "9ccb1a4588924b6cb0070ba643fe384e": {
          "model_module": "@jupyter-widgets/base",
          "model_name": "LayoutModel",
          "model_module_version": "1.2.0",
          "state": {
            "_view_name": "LayoutView",
            "grid_template_rows": null,
            "right": null,
            "justify_content": null,
            "_view_module": "@jupyter-widgets/base",
            "overflow": null,
            "_model_module_version": "1.2.0",
            "_view_count": null,
            "flex_flow": null,
            "width": null,
            "min_width": null,
            "border": null,
            "align_items": null,
            "bottom": null,
            "_model_module": "@jupyter-widgets/base",
            "top": null,
            "grid_column": null,
            "overflow_y": null,
            "overflow_x": null,
            "grid_auto_flow": null,
            "grid_area": null,
            "grid_template_columns": null,
            "flex": null,
            "_model_name": "LayoutModel",
            "justify_items": null,
            "grid_row": null,
            "max_height": null,
            "align_content": null,
            "visibility": null,
            "align_self": null,
            "height": null,
            "min_height": null,
            "padding": null,
            "grid_auto_rows": null,
            "grid_gap": null,
            "max_width": null,
            "order": null,
            "_view_module_version": "1.2.0",
            "grid_template_areas": null,
            "object_position": null,
            "object_fit": null,
            "grid_auto_columns": null,
            "margin": null,
            "display": null,
            "left": null
          }
        },
        "d84a1d7fb16e4439ab69053f22e72ca3": {
          "model_module": "@jupyter-widgets/controls",
          "model_name": "HTMLModel",
          "model_module_version": "1.5.0",
          "state": {
            "_view_name": "HTMLView",
            "style": "IPY_MODEL_15071d79e8b1418b97ab8eb436585ba7",
            "_dom_classes": [],
            "description": "",
            "_model_name": "HTMLModel",
            "placeholder": "​",
            "_view_module": "@jupyter-widgets/controls",
            "_model_module_version": "1.5.0",
            "value": "Generate report structure: 100%",
            "_view_count": null,
            "_view_module_version": "1.5.0",
            "description_tooltip": null,
            "_model_module": "@jupyter-widgets/controls",
            "layout": "IPY_MODEL_ee05ce36e682430eae81e74df065986b"
          }
        },
        "8af29e1ca32741e2bf3c631b08023cc9": {
          "model_module": "@jupyter-widgets/controls",
          "model_name": "FloatProgressModel",
          "model_module_version": "1.5.0",
          "state": {
            "_view_name": "ProgressView",
            "style": "IPY_MODEL_ad6a86fc91264cf893e0cb3de35fc31f",
            "_dom_classes": [],
            "description": "",
            "_model_name": "FloatProgressModel",
            "bar_style": "success",
            "max": 1,
            "_view_module": "@jupyter-widgets/controls",
            "_model_module_version": "1.5.0",
            "value": 1,
            "_view_count": null,
            "_view_module_version": "1.5.0",
            "orientation": "horizontal",
            "min": 0,
            "description_tooltip": null,
            "_model_module": "@jupyter-widgets/controls",
            "layout": "IPY_MODEL_5ff9b5df897f412f86cc3542443a13dc"
          }
        },
        "0c8a874ef5014733a02ff21a52558aa3": {
          "model_module": "@jupyter-widgets/controls",
          "model_name": "HTMLModel",
          "model_module_version": "1.5.0",
          "state": {
            "_view_name": "HTMLView",
            "style": "IPY_MODEL_a8d827025e3f4e5ea2a2e8a0413cf2e3",
            "_dom_classes": [],
            "description": "",
            "_model_name": "HTMLModel",
            "placeholder": "​",
            "_view_module": "@jupyter-widgets/controls",
            "_model_module_version": "1.5.0",
            "value": " 1/1 [00:04&lt;00:00,  4.67s/it]",
            "_view_count": null,
            "_view_module_version": "1.5.0",
            "description_tooltip": null,
            "_model_module": "@jupyter-widgets/controls",
            "layout": "IPY_MODEL_c538efc9bdb24555a3f408f794110727"
          }
        },
        "15071d79e8b1418b97ab8eb436585ba7": {
          "model_module": "@jupyter-widgets/controls",
          "model_name": "DescriptionStyleModel",
          "model_module_version": "1.5.0",
          "state": {
            "_view_name": "StyleView",
            "_model_name": "DescriptionStyleModel",
            "description_width": "",
            "_view_module": "@jupyter-widgets/base",
            "_model_module_version": "1.5.0",
            "_view_count": null,
            "_view_module_version": "1.2.0",
            "_model_module": "@jupyter-widgets/controls"
          }
        },
        "ee05ce36e682430eae81e74df065986b": {
          "model_module": "@jupyter-widgets/base",
          "model_name": "LayoutModel",
          "model_module_version": "1.2.0",
          "state": {
            "_view_name": "LayoutView",
            "grid_template_rows": null,
            "right": null,
            "justify_content": null,
            "_view_module": "@jupyter-widgets/base",
            "overflow": null,
            "_model_module_version": "1.2.0",
            "_view_count": null,
            "flex_flow": null,
            "width": null,
            "min_width": null,
            "border": null,
            "align_items": null,
            "bottom": null,
            "_model_module": "@jupyter-widgets/base",
            "top": null,
            "grid_column": null,
            "overflow_y": null,
            "overflow_x": null,
            "grid_auto_flow": null,
            "grid_area": null,
            "grid_template_columns": null,
            "flex": null,
            "_model_name": "LayoutModel",
            "justify_items": null,
            "grid_row": null,
            "max_height": null,
            "align_content": null,
            "visibility": null,
            "align_self": null,
            "height": null,
            "min_height": null,
            "padding": null,
            "grid_auto_rows": null,
            "grid_gap": null,
            "max_width": null,
            "order": null,
            "_view_module_version": "1.2.0",
            "grid_template_areas": null,
            "object_position": null,
            "object_fit": null,
            "grid_auto_columns": null,
            "margin": null,
            "display": null,
            "left": null
          }
        },
        "ad6a86fc91264cf893e0cb3de35fc31f": {
          "model_module": "@jupyter-widgets/controls",
          "model_name": "ProgressStyleModel",
          "model_module_version": "1.5.0",
          "state": {
            "_view_name": "StyleView",
            "_model_name": "ProgressStyleModel",
            "description_width": "",
            "_view_module": "@jupyter-widgets/base",
            "_model_module_version": "1.5.0",
            "_view_count": null,
            "_view_module_version": "1.2.0",
            "bar_color": null,
            "_model_module": "@jupyter-widgets/controls"
          }
        },
        "5ff9b5df897f412f86cc3542443a13dc": {
          "model_module": "@jupyter-widgets/base",
          "model_name": "LayoutModel",
          "model_module_version": "1.2.0",
          "state": {
            "_view_name": "LayoutView",
            "grid_template_rows": null,
            "right": null,
            "justify_content": null,
            "_view_module": "@jupyter-widgets/base",
            "overflow": null,
            "_model_module_version": "1.2.0",
            "_view_count": null,
            "flex_flow": null,
            "width": null,
            "min_width": null,
            "border": null,
            "align_items": null,
            "bottom": null,
            "_model_module": "@jupyter-widgets/base",
            "top": null,
            "grid_column": null,
            "overflow_y": null,
            "overflow_x": null,
            "grid_auto_flow": null,
            "grid_area": null,
            "grid_template_columns": null,
            "flex": null,
            "_model_name": "LayoutModel",
            "justify_items": null,
            "grid_row": null,
            "max_height": null,
            "align_content": null,
            "visibility": null,
            "align_self": null,
            "height": null,
            "min_height": null,
            "padding": null,
            "grid_auto_rows": null,
            "grid_gap": null,
            "max_width": null,
            "order": null,
            "_view_module_version": "1.2.0",
            "grid_template_areas": null,
            "object_position": null,
            "object_fit": null,
            "grid_auto_columns": null,
            "margin": null,
            "display": null,
            "left": null
          }
        },
        "a8d827025e3f4e5ea2a2e8a0413cf2e3": {
          "model_module": "@jupyter-widgets/controls",
          "model_name": "DescriptionStyleModel",
          "model_module_version": "1.5.0",
          "state": {
            "_view_name": "StyleView",
            "_model_name": "DescriptionStyleModel",
            "description_width": "",
            "_view_module": "@jupyter-widgets/base",
            "_model_module_version": "1.5.0",
            "_view_count": null,
            "_view_module_version": "1.2.0",
            "_model_module": "@jupyter-widgets/controls"
          }
        },
        "c538efc9bdb24555a3f408f794110727": {
          "model_module": "@jupyter-widgets/base",
          "model_name": "LayoutModel",
          "model_module_version": "1.2.0",
          "state": {
            "_view_name": "LayoutView",
            "grid_template_rows": null,
            "right": null,
            "justify_content": null,
            "_view_module": "@jupyter-widgets/base",
            "overflow": null,
            "_model_module_version": "1.2.0",
            "_view_count": null,
            "flex_flow": null,
            "width": null,
            "min_width": null,
            "border": null,
            "align_items": null,
            "bottom": null,
            "_model_module": "@jupyter-widgets/base",
            "top": null,
            "grid_column": null,
            "overflow_y": null,
            "overflow_x": null,
            "grid_auto_flow": null,
            "grid_area": null,
            "grid_template_columns": null,
            "flex": null,
            "_model_name": "LayoutModel",
            "justify_items": null,
            "grid_row": null,
            "max_height": null,
            "align_content": null,
            "visibility": null,
            "align_self": null,
            "height": null,
            "min_height": null,
            "padding": null,
            "grid_auto_rows": null,
            "grid_gap": null,
            "max_width": null,
            "order": null,
            "_view_module_version": "1.2.0",
            "grid_template_areas": null,
            "object_position": null,
            "object_fit": null,
            "grid_auto_columns": null,
            "margin": null,
            "display": null,
            "left": null
          }
        },
        "e589bf6a892947489996c4dc98996cd6": {
          "model_module": "@jupyter-widgets/controls",
          "model_name": "HBoxModel",
          "model_module_version": "1.5.0",
          "state": {
            "_view_name": "HBoxView",
            "_dom_classes": [],
            "_model_name": "HBoxModel",
            "_view_module": "@jupyter-widgets/controls",
            "_model_module_version": "1.5.0",
            "_view_count": null,
            "_view_module_version": "1.5.0",
            "box_style": "",
            "layout": "IPY_MODEL_b6e2fa1e64a54c24bd5e94d6bb6e2a38",
            "_model_module": "@jupyter-widgets/controls",
            "children": [
              "IPY_MODEL_f746ad187d4344b1bb003784357a010c",
              "IPY_MODEL_4d1d0fe5476947b8ae4a18cae3a4054d",
              "IPY_MODEL_c920a1763767424195602cf32c62eb54"
            ]
          }
        },
        "b6e2fa1e64a54c24bd5e94d6bb6e2a38": {
          "model_module": "@jupyter-widgets/base",
          "model_name": "LayoutModel",
          "model_module_version": "1.2.0",
          "state": {
            "_view_name": "LayoutView",
            "grid_template_rows": null,
            "right": null,
            "justify_content": null,
            "_view_module": "@jupyter-widgets/base",
            "overflow": null,
            "_model_module_version": "1.2.0",
            "_view_count": null,
            "flex_flow": null,
            "width": null,
            "min_width": null,
            "border": null,
            "align_items": null,
            "bottom": null,
            "_model_module": "@jupyter-widgets/base",
            "top": null,
            "grid_column": null,
            "overflow_y": null,
            "overflow_x": null,
            "grid_auto_flow": null,
            "grid_area": null,
            "grid_template_columns": null,
            "flex": null,
            "_model_name": "LayoutModel",
            "justify_items": null,
            "grid_row": null,
            "max_height": null,
            "align_content": null,
            "visibility": null,
            "align_self": null,
            "height": null,
            "min_height": null,
            "padding": null,
            "grid_auto_rows": null,
            "grid_gap": null,
            "max_width": null,
            "order": null,
            "_view_module_version": "1.2.0",
            "grid_template_areas": null,
            "object_position": null,
            "object_fit": null,
            "grid_auto_columns": null,
            "margin": null,
            "display": null,
            "left": null
          }
        },
        "f746ad187d4344b1bb003784357a010c": {
          "model_module": "@jupyter-widgets/controls",
          "model_name": "HTMLModel",
          "model_module_version": "1.5.0",
          "state": {
            "_view_name": "HTMLView",
            "style": "IPY_MODEL_c585f118988a4a2da06205002ae4625e",
            "_dom_classes": [],
            "description": "",
            "_model_name": "HTMLModel",
            "placeholder": "​",
            "_view_module": "@jupyter-widgets/controls",
            "_model_module_version": "1.5.0",
            "value": "Render HTML: 100%",
            "_view_count": null,
            "_view_module_version": "1.5.0",
            "description_tooltip": null,
            "_model_module": "@jupyter-widgets/controls",
            "layout": "IPY_MODEL_62912bc2661240aa931fa6a08fcb9e81"
          }
        },
        "4d1d0fe5476947b8ae4a18cae3a4054d": {
          "model_module": "@jupyter-widgets/controls",
          "model_name": "FloatProgressModel",
          "model_module_version": "1.5.0",
          "state": {
            "_view_name": "ProgressView",
            "style": "IPY_MODEL_4ca25b87788e4f36a17faae5afe2f922",
            "_dom_classes": [],
            "description": "",
            "_model_name": "FloatProgressModel",
            "bar_style": "success",
            "max": 1,
            "_view_module": "@jupyter-widgets/controls",
            "_model_module_version": "1.5.0",
            "value": 1,
            "_view_count": null,
            "_view_module_version": "1.5.0",
            "orientation": "horizontal",
            "min": 0,
            "description_tooltip": null,
            "_model_module": "@jupyter-widgets/controls",
            "layout": "IPY_MODEL_6d531303ffdc4ef6b1dec6032f1e9cac"
          }
        },
        "c920a1763767424195602cf32c62eb54": {
          "model_module": "@jupyter-widgets/controls",
          "model_name": "HTMLModel",
          "model_module_version": "1.5.0",
          "state": {
            "_view_name": "HTMLView",
            "style": "IPY_MODEL_d9fd542da42b462d82c3a070c918858c",
            "_dom_classes": [],
            "description": "",
            "_model_name": "HTMLModel",
            "placeholder": "​",
            "_view_module": "@jupyter-widgets/controls",
            "_model_module_version": "1.5.0",
            "value": " 1/1 [00:01&lt;00:00,  1.19s/it]",
            "_view_count": null,
            "_view_module_version": "1.5.0",
            "description_tooltip": null,
            "_model_module": "@jupyter-widgets/controls",
            "layout": "IPY_MODEL_b553da7cec064621af1705d4aaeeee2e"
          }
        },
        "c585f118988a4a2da06205002ae4625e": {
          "model_module": "@jupyter-widgets/controls",
          "model_name": "DescriptionStyleModel",
          "model_module_version": "1.5.0",
          "state": {
            "_view_name": "StyleView",
            "_model_name": "DescriptionStyleModel",
            "description_width": "",
            "_view_module": "@jupyter-widgets/base",
            "_model_module_version": "1.5.0",
            "_view_count": null,
            "_view_module_version": "1.2.0",
            "_model_module": "@jupyter-widgets/controls"
          }
        },
        "62912bc2661240aa931fa6a08fcb9e81": {
          "model_module": "@jupyter-widgets/base",
          "model_name": "LayoutModel",
          "model_module_version": "1.2.0",
          "state": {
            "_view_name": "LayoutView",
            "grid_template_rows": null,
            "right": null,
            "justify_content": null,
            "_view_module": "@jupyter-widgets/base",
            "overflow": null,
            "_model_module_version": "1.2.0",
            "_view_count": null,
            "flex_flow": null,
            "width": null,
            "min_width": null,
            "border": null,
            "align_items": null,
            "bottom": null,
            "_model_module": "@jupyter-widgets/base",
            "top": null,
            "grid_column": null,
            "overflow_y": null,
            "overflow_x": null,
            "grid_auto_flow": null,
            "grid_area": null,
            "grid_template_columns": null,
            "flex": null,
            "_model_name": "LayoutModel",
            "justify_items": null,
            "grid_row": null,
            "max_height": null,
            "align_content": null,
            "visibility": null,
            "align_self": null,
            "height": null,
            "min_height": null,
            "padding": null,
            "grid_auto_rows": null,
            "grid_gap": null,
            "max_width": null,
            "order": null,
            "_view_module_version": "1.2.0",
            "grid_template_areas": null,
            "object_position": null,
            "object_fit": null,
            "grid_auto_columns": null,
            "margin": null,
            "display": null,
            "left": null
          }
        },
        "4ca25b87788e4f36a17faae5afe2f922": {
          "model_module": "@jupyter-widgets/controls",
          "model_name": "ProgressStyleModel",
          "model_module_version": "1.5.0",
          "state": {
            "_view_name": "StyleView",
            "_model_name": "ProgressStyleModel",
            "description_width": "",
            "_view_module": "@jupyter-widgets/base",
            "_model_module_version": "1.5.0",
            "_view_count": null,
            "_view_module_version": "1.2.0",
            "bar_color": null,
            "_model_module": "@jupyter-widgets/controls"
          }
        },
        "6d531303ffdc4ef6b1dec6032f1e9cac": {
          "model_module": "@jupyter-widgets/base",
          "model_name": "LayoutModel",
          "model_module_version": "1.2.0",
          "state": {
            "_view_name": "LayoutView",
            "grid_template_rows": null,
            "right": null,
            "justify_content": null,
            "_view_module": "@jupyter-widgets/base",
            "overflow": null,
            "_model_module_version": "1.2.0",
            "_view_count": null,
            "flex_flow": null,
            "width": null,
            "min_width": null,
            "border": null,
            "align_items": null,
            "bottom": null,
            "_model_module": "@jupyter-widgets/base",
            "top": null,
            "grid_column": null,
            "overflow_y": null,
            "overflow_x": null,
            "grid_auto_flow": null,
            "grid_area": null,
            "grid_template_columns": null,
            "flex": null,
            "_model_name": "LayoutModel",
            "justify_items": null,
            "grid_row": null,
            "max_height": null,
            "align_content": null,
            "visibility": null,
            "align_self": null,
            "height": null,
            "min_height": null,
            "padding": null,
            "grid_auto_rows": null,
            "grid_gap": null,
            "max_width": null,
            "order": null,
            "_view_module_version": "1.2.0",
            "grid_template_areas": null,
            "object_position": null,
            "object_fit": null,
            "grid_auto_columns": null,
            "margin": null,
            "display": null,
            "left": null
          }
        },
        "d9fd542da42b462d82c3a070c918858c": {
          "model_module": "@jupyter-widgets/controls",
          "model_name": "DescriptionStyleModel",
          "model_module_version": "1.5.0",
          "state": {
            "_view_name": "StyleView",
            "_model_name": "DescriptionStyleModel",
            "description_width": "",
            "_view_module": "@jupyter-widgets/base",
            "_model_module_version": "1.5.0",
            "_view_count": null,
            "_view_module_version": "1.2.0",
            "_model_module": "@jupyter-widgets/controls"
          }
        },
        "b553da7cec064621af1705d4aaeeee2e": {
          "model_module": "@jupyter-widgets/base",
          "model_name": "LayoutModel",
          "model_module_version": "1.2.0",
          "state": {
            "_view_name": "LayoutView",
            "grid_template_rows": null,
            "right": null,
            "justify_content": null,
            "_view_module": "@jupyter-widgets/base",
            "overflow": null,
            "_model_module_version": "1.2.0",
            "_view_count": null,
            "flex_flow": null,
            "width": null,
            "min_width": null,
            "border": null,
            "align_items": null,
            "bottom": null,
            "_model_module": "@jupyter-widgets/base",
            "top": null,
            "grid_column": null,
            "overflow_y": null,
            "overflow_x": null,
            "grid_auto_flow": null,
            "grid_area": null,
            "grid_template_columns": null,
            "flex": null,
            "_model_name": "LayoutModel",
            "justify_items": null,
            "grid_row": null,
            "max_height": null,
            "align_content": null,
            "visibility": null,
            "align_self": null,
            "height": null,
            "min_height": null,
            "padding": null,
            "grid_auto_rows": null,
            "grid_gap": null,
            "max_width": null,
            "order": null,
            "_view_module_version": "1.2.0",
            "grid_template_areas": null,
            "object_position": null,
            "object_fit": null,
            "grid_auto_columns": null,
            "margin": null,
            "display": null,
            "left": null
          }
        },
        "6fd5f2139eb94288a56e3cf1f75dedbb": {
          "model_module": "@jupyter-widgets/controls",
          "model_name": "HBoxModel",
          "model_module_version": "1.5.0",
          "state": {
            "_view_name": "HBoxView",
            "_dom_classes": [],
            "_model_name": "HBoxModel",
            "_view_module": "@jupyter-widgets/controls",
            "_model_module_version": "1.5.0",
            "_view_count": null,
            "_view_module_version": "1.5.0",
            "box_style": "",
            "layout": "IPY_MODEL_14e4c26b5676424e9d350bf30fbd9c11",
            "_model_module": "@jupyter-widgets/controls",
            "children": [
              "IPY_MODEL_a19af94c304f4b6d9195034a329208c6",
              "IPY_MODEL_6cbf478a1c0a46d29db7a946eca142df",
              "IPY_MODEL_6b31c4a98d2c452b9625596b1b604ab6"
            ]
          }
        },
        "14e4c26b5676424e9d350bf30fbd9c11": {
          "model_module": "@jupyter-widgets/base",
          "model_name": "LayoutModel",
          "model_module_version": "1.2.0",
          "state": {
            "_view_name": "LayoutView",
            "grid_template_rows": null,
            "right": null,
            "justify_content": null,
            "_view_module": "@jupyter-widgets/base",
            "overflow": null,
            "_model_module_version": "1.2.0",
            "_view_count": null,
            "flex_flow": null,
            "width": null,
            "min_width": null,
            "border": null,
            "align_items": null,
            "bottom": null,
            "_model_module": "@jupyter-widgets/base",
            "top": null,
            "grid_column": null,
            "overflow_y": null,
            "overflow_x": null,
            "grid_auto_flow": null,
            "grid_area": null,
            "grid_template_columns": null,
            "flex": null,
            "_model_name": "LayoutModel",
            "justify_items": null,
            "grid_row": null,
            "max_height": null,
            "align_content": null,
            "visibility": null,
            "align_self": null,
            "height": null,
            "min_height": null,
            "padding": null,
            "grid_auto_rows": null,
            "grid_gap": null,
            "max_width": null,
            "order": null,
            "_view_module_version": "1.2.0",
            "grid_template_areas": null,
            "object_position": null,
            "object_fit": null,
            "grid_auto_columns": null,
            "margin": null,
            "display": null,
            "left": null
          }
        },
        "a19af94c304f4b6d9195034a329208c6": {
          "model_module": "@jupyter-widgets/controls",
          "model_name": "HTMLModel",
          "model_module_version": "1.5.0",
          "state": {
            "_view_name": "HTMLView",
            "style": "IPY_MODEL_dd9ba04c65c445a6bd6e95d6f621eeb3",
            "_dom_classes": [],
            "description": "",
            "_model_name": "HTMLModel",
            "placeholder": "​",
            "_view_module": "@jupyter-widgets/controls",
            "_model_module_version": "1.5.0",
            "value": "Export report to file: 100%",
            "_view_count": null,
            "_view_module_version": "1.5.0",
            "description_tooltip": null,
            "_model_module": "@jupyter-widgets/controls",
            "layout": "IPY_MODEL_299a31e7024441dc957f16f329ce74f5"
          }
        },
        "6cbf478a1c0a46d29db7a946eca142df": {
          "model_module": "@jupyter-widgets/controls",
          "model_name": "FloatProgressModel",
          "model_module_version": "1.5.0",
          "state": {
            "_view_name": "ProgressView",
            "style": "IPY_MODEL_39fa3fe43416460bb647aef990eae8d3",
            "_dom_classes": [],
            "description": "",
            "_model_name": "FloatProgressModel",
            "bar_style": "success",
            "max": 1,
            "_view_module": "@jupyter-widgets/controls",
            "_model_module_version": "1.5.0",
            "value": 1,
            "_view_count": null,
            "_view_module_version": "1.5.0",
            "orientation": "horizontal",
            "min": 0,
            "description_tooltip": null,
            "_model_module": "@jupyter-widgets/controls",
            "layout": "IPY_MODEL_f1262210118749bebd2347e8f4d4d4d4"
          }
        },
        "6b31c4a98d2c452b9625596b1b604ab6": {
          "model_module": "@jupyter-widgets/controls",
          "model_name": "HTMLModel",
          "model_module_version": "1.5.0",
          "state": {
            "_view_name": "HTMLView",
            "style": "IPY_MODEL_d372805d9b3d41d78a51355aec6c78f5",
            "_dom_classes": [],
            "description": "",
            "_model_name": "HTMLModel",
            "placeholder": "​",
            "_view_module": "@jupyter-widgets/controls",
            "_model_module_version": "1.5.0",
            "value": " 1/1 [00:00&lt;00:00, 20.05it/s]",
            "_view_count": null,
            "_view_module_version": "1.5.0",
            "description_tooltip": null,
            "_model_module": "@jupyter-widgets/controls",
            "layout": "IPY_MODEL_c12d5c6c449f4d068ba353970beb5b1b"
          }
        },
        "dd9ba04c65c445a6bd6e95d6f621eeb3": {
          "model_module": "@jupyter-widgets/controls",
          "model_name": "DescriptionStyleModel",
          "model_module_version": "1.5.0",
          "state": {
            "_view_name": "StyleView",
            "_model_name": "DescriptionStyleModel",
            "description_width": "",
            "_view_module": "@jupyter-widgets/base",
            "_model_module_version": "1.5.0",
            "_view_count": null,
            "_view_module_version": "1.2.0",
            "_model_module": "@jupyter-widgets/controls"
          }
        },
        "299a31e7024441dc957f16f329ce74f5": {
          "model_module": "@jupyter-widgets/base",
          "model_name": "LayoutModel",
          "model_module_version": "1.2.0",
          "state": {
            "_view_name": "LayoutView",
            "grid_template_rows": null,
            "right": null,
            "justify_content": null,
            "_view_module": "@jupyter-widgets/base",
            "overflow": null,
            "_model_module_version": "1.2.0",
            "_view_count": null,
            "flex_flow": null,
            "width": null,
            "min_width": null,
            "border": null,
            "align_items": null,
            "bottom": null,
            "_model_module": "@jupyter-widgets/base",
            "top": null,
            "grid_column": null,
            "overflow_y": null,
            "overflow_x": null,
            "grid_auto_flow": null,
            "grid_area": null,
            "grid_template_columns": null,
            "flex": null,
            "_model_name": "LayoutModel",
            "justify_items": null,
            "grid_row": null,
            "max_height": null,
            "align_content": null,
            "visibility": null,
            "align_self": null,
            "height": null,
            "min_height": null,
            "padding": null,
            "grid_auto_rows": null,
            "grid_gap": null,
            "max_width": null,
            "order": null,
            "_view_module_version": "1.2.0",
            "grid_template_areas": null,
            "object_position": null,
            "object_fit": null,
            "grid_auto_columns": null,
            "margin": null,
            "display": null,
            "left": null
          }
        },
        "39fa3fe43416460bb647aef990eae8d3": {
          "model_module": "@jupyter-widgets/controls",
          "model_name": "ProgressStyleModel",
          "model_module_version": "1.5.0",
          "state": {
            "_view_name": "StyleView",
            "_model_name": "ProgressStyleModel",
            "description_width": "",
            "_view_module": "@jupyter-widgets/base",
            "_model_module_version": "1.5.0",
            "_view_count": null,
            "_view_module_version": "1.2.0",
            "bar_color": null,
            "_model_module": "@jupyter-widgets/controls"
          }
        },
        "f1262210118749bebd2347e8f4d4d4d4": {
          "model_module": "@jupyter-widgets/base",
          "model_name": "LayoutModel",
          "model_module_version": "1.2.0",
          "state": {
            "_view_name": "LayoutView",
            "grid_template_rows": null,
            "right": null,
            "justify_content": null,
            "_view_module": "@jupyter-widgets/base",
            "overflow": null,
            "_model_module_version": "1.2.0",
            "_view_count": null,
            "flex_flow": null,
            "width": null,
            "min_width": null,
            "border": null,
            "align_items": null,
            "bottom": null,
            "_model_module": "@jupyter-widgets/base",
            "top": null,
            "grid_column": null,
            "overflow_y": null,
            "overflow_x": null,
            "grid_auto_flow": null,
            "grid_area": null,
            "grid_template_columns": null,
            "flex": null,
            "_model_name": "LayoutModel",
            "justify_items": null,
            "grid_row": null,
            "max_height": null,
            "align_content": null,
            "visibility": null,
            "align_self": null,
            "height": null,
            "min_height": null,
            "padding": null,
            "grid_auto_rows": null,
            "grid_gap": null,
            "max_width": null,
            "order": null,
            "_view_module_version": "1.2.0",
            "grid_template_areas": null,
            "object_position": null,
            "object_fit": null,
            "grid_auto_columns": null,
            "margin": null,
            "display": null,
            "left": null
          }
        },
        "d372805d9b3d41d78a51355aec6c78f5": {
          "model_module": "@jupyter-widgets/controls",
          "model_name": "DescriptionStyleModel",
          "model_module_version": "1.5.0",
          "state": {
            "_view_name": "StyleView",
            "_model_name": "DescriptionStyleModel",
            "description_width": "",
            "_view_module": "@jupyter-widgets/base",
            "_model_module_version": "1.5.0",
            "_view_count": null,
            "_view_module_version": "1.2.0",
            "_model_module": "@jupyter-widgets/controls"
          }
        },
        "c12d5c6c449f4d068ba353970beb5b1b": {
          "model_module": "@jupyter-widgets/base",
          "model_name": "LayoutModel",
          "model_module_version": "1.2.0",
          "state": {
            "_view_name": "LayoutView",
            "grid_template_rows": null,
            "right": null,
            "justify_content": null,
            "_view_module": "@jupyter-widgets/base",
            "overflow": null,
            "_model_module_version": "1.2.0",
            "_view_count": null,
            "flex_flow": null,
            "width": null,
            "min_width": null,
            "border": null,
            "align_items": null,
            "bottom": null,
            "_model_module": "@jupyter-widgets/base",
            "top": null,
            "grid_column": null,
            "overflow_y": null,
            "overflow_x": null,
            "grid_auto_flow": null,
            "grid_area": null,
            "grid_template_columns": null,
            "flex": null,
            "_model_name": "LayoutModel",
            "justify_items": null,
            "grid_row": null,
            "max_height": null,
            "align_content": null,
            "visibility": null,
            "align_self": null,
            "height": null,
            "min_height": null,
            "padding": null,
            "grid_auto_rows": null,
            "grid_gap": null,
            "max_width": null,
            "order": null,
            "_view_module_version": "1.2.0",
            "grid_template_areas": null,
            "object_position": null,
            "object_fit": null,
            "grid_auto_columns": null,
            "margin": null,
            "display": null,
            "left": null
          }
        },
        "9ed2bbc3c3b7402eb837068ac6a4b24a": {
          "model_module": "@jupyter-widgets/controls",
          "model_name": "HBoxModel",
          "model_module_version": "1.5.0",
          "state": {
            "_view_name": "HBoxView",
            "_dom_classes": [],
            "_model_name": "HBoxModel",
            "_view_module": "@jupyter-widgets/controls",
            "_model_module_version": "1.5.0",
            "_view_count": null,
            "_view_module_version": "1.5.0",
            "box_style": "",
            "layout": "IPY_MODEL_fbbd19103aea41cb800699f95a4a68ef",
            "_model_module": "@jupyter-widgets/controls",
            "children": [
              "IPY_MODEL_d54ad91303174836b4235fc48b8373fd",
              "IPY_MODEL_4b298be90a0b4dd1a0a0319a598a5428",
              "IPY_MODEL_4c757499eef64ca5b5338330240f565c"
            ]
          }
        },
        "fbbd19103aea41cb800699f95a4a68ef": {
          "model_module": "@jupyter-widgets/base",
          "model_name": "LayoutModel",
          "model_module_version": "1.2.0",
          "state": {
            "_view_name": "LayoutView",
            "grid_template_rows": null,
            "right": null,
            "justify_content": null,
            "_view_module": "@jupyter-widgets/base",
            "overflow": null,
            "_model_module_version": "1.2.0",
            "_view_count": null,
            "flex_flow": null,
            "width": null,
            "min_width": null,
            "border": null,
            "align_items": null,
            "bottom": null,
            "_model_module": "@jupyter-widgets/base",
            "top": null,
            "grid_column": null,
            "overflow_y": null,
            "overflow_x": null,
            "grid_auto_flow": null,
            "grid_area": null,
            "grid_template_columns": null,
            "flex": null,
            "_model_name": "LayoutModel",
            "justify_items": null,
            "grid_row": null,
            "max_height": null,
            "align_content": null,
            "visibility": null,
            "align_self": null,
            "height": null,
            "min_height": null,
            "padding": null,
            "grid_auto_rows": null,
            "grid_gap": null,
            "max_width": null,
            "order": null,
            "_view_module_version": "1.2.0",
            "grid_template_areas": null,
            "object_position": null,
            "object_fit": null,
            "grid_auto_columns": null,
            "margin": null,
            "display": null,
            "left": null
          }
        },
        "d54ad91303174836b4235fc48b8373fd": {
          "model_module": "@jupyter-widgets/controls",
          "model_name": "HTMLModel",
          "model_module_version": "1.5.0",
          "state": {
            "_view_name": "HTMLView",
            "style": "IPY_MODEL_3b8e995e642e4776a53b77980e38c117",
            "_dom_classes": [],
            "description": "",
            "_model_name": "HTMLModel",
            "placeholder": "​",
            "_view_module": "@jupyter-widgets/controls",
            "_model_module_version": "1.5.0",
            "value": "Summarize dataset: 100%",
            "_view_count": null,
            "_view_module_version": "1.5.0",
            "description_tooltip": null,
            "_model_module": "@jupyter-widgets/controls",
            "layout": "IPY_MODEL_290eb28807234244bf75f5e1a269212e"
          }
        },
        "4b298be90a0b4dd1a0a0319a598a5428": {
          "model_module": "@jupyter-widgets/controls",
          "model_name": "FloatProgressModel",
          "model_module_version": "1.5.0",
          "state": {
            "_view_name": "ProgressView",
            "style": "IPY_MODEL_ac40c53ee4b64a2487d1c0310af949a0",
            "_dom_classes": [],
            "description": "",
            "_model_name": "FloatProgressModel",
            "bar_style": "success",
            "max": 5,
            "_view_module": "@jupyter-widgets/controls",
            "_model_module_version": "1.5.0",
            "value": 5,
            "_view_count": null,
            "_view_module_version": "1.5.0",
            "orientation": "horizontal",
            "min": 0,
            "description_tooltip": null,
            "_model_module": "@jupyter-widgets/controls",
            "layout": "IPY_MODEL_d50f29e952e046d1860cdb3b60438c4c"
          }
        },
        "4c757499eef64ca5b5338330240f565c": {
          "model_module": "@jupyter-widgets/controls",
          "model_name": "HTMLModel",
          "model_module_version": "1.5.0",
          "state": {
            "_view_name": "HTMLView",
            "style": "IPY_MODEL_645b528a8a0b4f87973b635450f7966e",
            "_dom_classes": [],
            "description": "",
            "_model_name": "HTMLModel",
            "placeholder": "​",
            "_view_module": "@jupyter-widgets/controls",
            "_model_module_version": "1.5.0",
            "value": " 50/50 [00:07&lt;00:00,  4.42it/s, Completed]",
            "_view_count": null,
            "_view_module_version": "1.5.0",
            "description_tooltip": null,
            "_model_module": "@jupyter-widgets/controls",
            "layout": "IPY_MODEL_bc7dbdab4bae4beb8c62edee881b5e3a"
          }
        },
        "3b8e995e642e4776a53b77980e38c117": {
          "model_module": "@jupyter-widgets/controls",
          "model_name": "DescriptionStyleModel",
          "model_module_version": "1.5.0",
          "state": {
            "_view_name": "StyleView",
            "_model_name": "DescriptionStyleModel",
            "description_width": "",
            "_view_module": "@jupyter-widgets/base",
            "_model_module_version": "1.5.0",
            "_view_count": null,
            "_view_module_version": "1.2.0",
            "_model_module": "@jupyter-widgets/controls"
          }
        },
        "290eb28807234244bf75f5e1a269212e": {
          "model_module": "@jupyter-widgets/base",
          "model_name": "LayoutModel",
          "model_module_version": "1.2.0",
          "state": {
            "_view_name": "LayoutView",
            "grid_template_rows": null,
            "right": null,
            "justify_content": null,
            "_view_module": "@jupyter-widgets/base",
            "overflow": null,
            "_model_module_version": "1.2.0",
            "_view_count": null,
            "flex_flow": null,
            "width": null,
            "min_width": null,
            "border": null,
            "align_items": null,
            "bottom": null,
            "_model_module": "@jupyter-widgets/base",
            "top": null,
            "grid_column": null,
            "overflow_y": null,
            "overflow_x": null,
            "grid_auto_flow": null,
            "grid_area": null,
            "grid_template_columns": null,
            "flex": null,
            "_model_name": "LayoutModel",
            "justify_items": null,
            "grid_row": null,
            "max_height": null,
            "align_content": null,
            "visibility": null,
            "align_self": null,
            "height": null,
            "min_height": null,
            "padding": null,
            "grid_auto_rows": null,
            "grid_gap": null,
            "max_width": null,
            "order": null,
            "_view_module_version": "1.2.0",
            "grid_template_areas": null,
            "object_position": null,
            "object_fit": null,
            "grid_auto_columns": null,
            "margin": null,
            "display": null,
            "left": null
          }
        },
        "ac40c53ee4b64a2487d1c0310af949a0": {
          "model_module": "@jupyter-widgets/controls",
          "model_name": "ProgressStyleModel",
          "model_module_version": "1.5.0",
          "state": {
            "_view_name": "StyleView",
            "_model_name": "ProgressStyleModel",
            "description_width": "",
            "_view_module": "@jupyter-widgets/base",
            "_model_module_version": "1.5.0",
            "_view_count": null,
            "_view_module_version": "1.2.0",
            "bar_color": null,
            "_model_module": "@jupyter-widgets/controls"
          }
        },
        "d50f29e952e046d1860cdb3b60438c4c": {
          "model_module": "@jupyter-widgets/base",
          "model_name": "LayoutModel",
          "model_module_version": "1.2.0",
          "state": {
            "_view_name": "LayoutView",
            "grid_template_rows": null,
            "right": null,
            "justify_content": null,
            "_view_module": "@jupyter-widgets/base",
            "overflow": null,
            "_model_module_version": "1.2.0",
            "_view_count": null,
            "flex_flow": null,
            "width": null,
            "min_width": null,
            "border": null,
            "align_items": null,
            "bottom": null,
            "_model_module": "@jupyter-widgets/base",
            "top": null,
            "grid_column": null,
            "overflow_y": null,
            "overflow_x": null,
            "grid_auto_flow": null,
            "grid_area": null,
            "grid_template_columns": null,
            "flex": null,
            "_model_name": "LayoutModel",
            "justify_items": null,
            "grid_row": null,
            "max_height": null,
            "align_content": null,
            "visibility": null,
            "align_self": null,
            "height": null,
            "min_height": null,
            "padding": null,
            "grid_auto_rows": null,
            "grid_gap": null,
            "max_width": null,
            "order": null,
            "_view_module_version": "1.2.0",
            "grid_template_areas": null,
            "object_position": null,
            "object_fit": null,
            "grid_auto_columns": null,
            "margin": null,
            "display": null,
            "left": null
          }
        },
        "645b528a8a0b4f87973b635450f7966e": {
          "model_module": "@jupyter-widgets/controls",
          "model_name": "DescriptionStyleModel",
          "model_module_version": "1.5.0",
          "state": {
            "_view_name": "StyleView",
            "_model_name": "DescriptionStyleModel",
            "description_width": "",
            "_view_module": "@jupyter-widgets/base",
            "_model_module_version": "1.5.0",
            "_view_count": null,
            "_view_module_version": "1.2.0",
            "_model_module": "@jupyter-widgets/controls"
          }
        },
        "bc7dbdab4bae4beb8c62edee881b5e3a": {
          "model_module": "@jupyter-widgets/base",
          "model_name": "LayoutModel",
          "model_module_version": "1.2.0",
          "state": {
            "_view_name": "LayoutView",
            "grid_template_rows": null,
            "right": null,
            "justify_content": null,
            "_view_module": "@jupyter-widgets/base",
            "overflow": null,
            "_model_module_version": "1.2.0",
            "_view_count": null,
            "flex_flow": null,
            "width": null,
            "min_width": null,
            "border": null,
            "align_items": null,
            "bottom": null,
            "_model_module": "@jupyter-widgets/base",
            "top": null,
            "grid_column": null,
            "overflow_y": null,
            "overflow_x": null,
            "grid_auto_flow": null,
            "grid_area": null,
            "grid_template_columns": null,
            "flex": null,
            "_model_name": "LayoutModel",
            "justify_items": null,
            "grid_row": null,
            "max_height": null,
            "align_content": null,
            "visibility": null,
            "align_self": null,
            "height": null,
            "min_height": null,
            "padding": null,
            "grid_auto_rows": null,
            "grid_gap": null,
            "max_width": null,
            "order": null,
            "_view_module_version": "1.2.0",
            "grid_template_areas": null,
            "object_position": null,
            "object_fit": null,
            "grid_auto_columns": null,
            "margin": null,
            "display": null,
            "left": null
          }
        },
        "ffe941ca6ff848a896e3fa1a309ebee6": {
          "model_module": "@jupyter-widgets/controls",
          "model_name": "HBoxModel",
          "model_module_version": "1.5.0",
          "state": {
            "_view_name": "HBoxView",
            "_dom_classes": [],
            "_model_name": "HBoxModel",
            "_view_module": "@jupyter-widgets/controls",
            "_model_module_version": "1.5.0",
            "_view_count": null,
            "_view_module_version": "1.5.0",
            "box_style": "",
            "layout": "IPY_MODEL_c46134d5ad8640d3ba15588f8d5f69a1",
            "_model_module": "@jupyter-widgets/controls",
            "children": [
              "IPY_MODEL_910e160535634c59ade2f27ea62b9374",
              "IPY_MODEL_65d4149fa2094e8daba25d25972ff262",
              "IPY_MODEL_8eb526fc13f848c6a5fd2fdeecc0d06b"
            ]
          }
        },
        "c46134d5ad8640d3ba15588f8d5f69a1": {
          "model_module": "@jupyter-widgets/base",
          "model_name": "LayoutModel",
          "model_module_version": "1.2.0",
          "state": {
            "_view_name": "LayoutView",
            "grid_template_rows": null,
            "right": null,
            "justify_content": null,
            "_view_module": "@jupyter-widgets/base",
            "overflow": null,
            "_model_module_version": "1.2.0",
            "_view_count": null,
            "flex_flow": null,
            "width": null,
            "min_width": null,
            "border": null,
            "align_items": null,
            "bottom": null,
            "_model_module": "@jupyter-widgets/base",
            "top": null,
            "grid_column": null,
            "overflow_y": null,
            "overflow_x": null,
            "grid_auto_flow": null,
            "grid_area": null,
            "grid_template_columns": null,
            "flex": null,
            "_model_name": "LayoutModel",
            "justify_items": null,
            "grid_row": null,
            "max_height": null,
            "align_content": null,
            "visibility": null,
            "align_self": null,
            "height": null,
            "min_height": null,
            "padding": null,
            "grid_auto_rows": null,
            "grid_gap": null,
            "max_width": null,
            "order": null,
            "_view_module_version": "1.2.0",
            "grid_template_areas": null,
            "object_position": null,
            "object_fit": null,
            "grid_auto_columns": null,
            "margin": null,
            "display": null,
            "left": null
          }
        },
        "910e160535634c59ade2f27ea62b9374": {
          "model_module": "@jupyter-widgets/controls",
          "model_name": "HTMLModel",
          "model_module_version": "1.5.0",
          "state": {
            "_view_name": "HTMLView",
            "style": "IPY_MODEL_0aa1deffdd3a477e88d33c04b9c6eebd",
            "_dom_classes": [],
            "description": "",
            "_model_name": "HTMLModel",
            "placeholder": "​",
            "_view_module": "@jupyter-widgets/controls",
            "_model_module_version": "1.5.0",
            "value": "Generate report structure: 100%",
            "_view_count": null,
            "_view_module_version": "1.5.0",
            "description_tooltip": null,
            "_model_module": "@jupyter-widgets/controls",
            "layout": "IPY_MODEL_ecc87f0b424a4221a4be657483bc9822"
          }
        },
        "65d4149fa2094e8daba25d25972ff262": {
          "model_module": "@jupyter-widgets/controls",
          "model_name": "FloatProgressModel",
          "model_module_version": "1.5.0",
          "state": {
            "_view_name": "ProgressView",
            "style": "IPY_MODEL_bea036690b264962b4d0c2bce3cc2b17",
            "_dom_classes": [],
            "description": "",
            "_model_name": "FloatProgressModel",
            "bar_style": "success",
            "max": 1,
            "_view_module": "@jupyter-widgets/controls",
            "_model_module_version": "1.5.0",
            "value": 1,
            "_view_count": null,
            "_view_module_version": "1.5.0",
            "orientation": "horizontal",
            "min": 0,
            "description_tooltip": null,
            "_model_module": "@jupyter-widgets/controls",
            "layout": "IPY_MODEL_af70807a065b45af8382f0862979145e"
          }
        },
        "8eb526fc13f848c6a5fd2fdeecc0d06b": {
          "model_module": "@jupyter-widgets/controls",
          "model_name": "HTMLModel",
          "model_module_version": "1.5.0",
          "state": {
            "_view_name": "HTMLView",
            "style": "IPY_MODEL_686d0dd790b64afc9155d67567933beb",
            "_dom_classes": [],
            "description": "",
            "_model_name": "HTMLModel",
            "placeholder": "​",
            "_view_module": "@jupyter-widgets/controls",
            "_model_module_version": "1.5.0",
            "value": " 1/1 [00:05&lt;00:00,  5.67s/it]",
            "_view_count": null,
            "_view_module_version": "1.5.0",
            "description_tooltip": null,
            "_model_module": "@jupyter-widgets/controls",
            "layout": "IPY_MODEL_4d3bbd95135f4856b356c583cfb6d084"
          }
        },
        "0aa1deffdd3a477e88d33c04b9c6eebd": {
          "model_module": "@jupyter-widgets/controls",
          "model_name": "DescriptionStyleModel",
          "model_module_version": "1.5.0",
          "state": {
            "_view_name": "StyleView",
            "_model_name": "DescriptionStyleModel",
            "description_width": "",
            "_view_module": "@jupyter-widgets/base",
            "_model_module_version": "1.5.0",
            "_view_count": null,
            "_view_module_version": "1.2.0",
            "_model_module": "@jupyter-widgets/controls"
          }
        },
        "ecc87f0b424a4221a4be657483bc9822": {
          "model_module": "@jupyter-widgets/base",
          "model_name": "LayoutModel",
          "model_module_version": "1.2.0",
          "state": {
            "_view_name": "LayoutView",
            "grid_template_rows": null,
            "right": null,
            "justify_content": null,
            "_view_module": "@jupyter-widgets/base",
            "overflow": null,
            "_model_module_version": "1.2.0",
            "_view_count": null,
            "flex_flow": null,
            "width": null,
            "min_width": null,
            "border": null,
            "align_items": null,
            "bottom": null,
            "_model_module": "@jupyter-widgets/base",
            "top": null,
            "grid_column": null,
            "overflow_y": null,
            "overflow_x": null,
            "grid_auto_flow": null,
            "grid_area": null,
            "grid_template_columns": null,
            "flex": null,
            "_model_name": "LayoutModel",
            "justify_items": null,
            "grid_row": null,
            "max_height": null,
            "align_content": null,
            "visibility": null,
            "align_self": null,
            "height": null,
            "min_height": null,
            "padding": null,
            "grid_auto_rows": null,
            "grid_gap": null,
            "max_width": null,
            "order": null,
            "_view_module_version": "1.2.0",
            "grid_template_areas": null,
            "object_position": null,
            "object_fit": null,
            "grid_auto_columns": null,
            "margin": null,
            "display": null,
            "left": null
          }
        },
        "bea036690b264962b4d0c2bce3cc2b17": {
          "model_module": "@jupyter-widgets/controls",
          "model_name": "ProgressStyleModel",
          "model_module_version": "1.5.0",
          "state": {
            "_view_name": "StyleView",
            "_model_name": "ProgressStyleModel",
            "description_width": "",
            "_view_module": "@jupyter-widgets/base",
            "_model_module_version": "1.5.0",
            "_view_count": null,
            "_view_module_version": "1.2.0",
            "bar_color": null,
            "_model_module": "@jupyter-widgets/controls"
          }
        },
        "af70807a065b45af8382f0862979145e": {
          "model_module": "@jupyter-widgets/base",
          "model_name": "LayoutModel",
          "model_module_version": "1.2.0",
          "state": {
            "_view_name": "LayoutView",
            "grid_template_rows": null,
            "right": null,
            "justify_content": null,
            "_view_module": "@jupyter-widgets/base",
            "overflow": null,
            "_model_module_version": "1.2.0",
            "_view_count": null,
            "flex_flow": null,
            "width": null,
            "min_width": null,
            "border": null,
            "align_items": null,
            "bottom": null,
            "_model_module": "@jupyter-widgets/base",
            "top": null,
            "grid_column": null,
            "overflow_y": null,
            "overflow_x": null,
            "grid_auto_flow": null,
            "grid_area": null,
            "grid_template_columns": null,
            "flex": null,
            "_model_name": "LayoutModel",
            "justify_items": null,
            "grid_row": null,
            "max_height": null,
            "align_content": null,
            "visibility": null,
            "align_self": null,
            "height": null,
            "min_height": null,
            "padding": null,
            "grid_auto_rows": null,
            "grid_gap": null,
            "max_width": null,
            "order": null,
            "_view_module_version": "1.2.0",
            "grid_template_areas": null,
            "object_position": null,
            "object_fit": null,
            "grid_auto_columns": null,
            "margin": null,
            "display": null,
            "left": null
          }
        },
        "686d0dd790b64afc9155d67567933beb": {
          "model_module": "@jupyter-widgets/controls",
          "model_name": "DescriptionStyleModel",
          "model_module_version": "1.5.0",
          "state": {
            "_view_name": "StyleView",
            "_model_name": "DescriptionStyleModel",
            "description_width": "",
            "_view_module": "@jupyter-widgets/base",
            "_model_module_version": "1.5.0",
            "_view_count": null,
            "_view_module_version": "1.2.0",
            "_model_module": "@jupyter-widgets/controls"
          }
        },
        "4d3bbd95135f4856b356c583cfb6d084": {
          "model_module": "@jupyter-widgets/base",
          "model_name": "LayoutModel",
          "model_module_version": "1.2.0",
          "state": {
            "_view_name": "LayoutView",
            "grid_template_rows": null,
            "right": null,
            "justify_content": null,
            "_view_module": "@jupyter-widgets/base",
            "overflow": null,
            "_model_module_version": "1.2.0",
            "_view_count": null,
            "flex_flow": null,
            "width": null,
            "min_width": null,
            "border": null,
            "align_items": null,
            "bottom": null,
            "_model_module": "@jupyter-widgets/base",
            "top": null,
            "grid_column": null,
            "overflow_y": null,
            "overflow_x": null,
            "grid_auto_flow": null,
            "grid_area": null,
            "grid_template_columns": null,
            "flex": null,
            "_model_name": "LayoutModel",
            "justify_items": null,
            "grid_row": null,
            "max_height": null,
            "align_content": null,
            "visibility": null,
            "align_self": null,
            "height": null,
            "min_height": null,
            "padding": null,
            "grid_auto_rows": null,
            "grid_gap": null,
            "max_width": null,
            "order": null,
            "_view_module_version": "1.2.0",
            "grid_template_areas": null,
            "object_position": null,
            "object_fit": null,
            "grid_auto_columns": null,
            "margin": null,
            "display": null,
            "left": null
          }
        },
        "bde21850260748edbc683ea469da46e4": {
          "model_module": "@jupyter-widgets/controls",
          "model_name": "HBoxModel",
          "model_module_version": "1.5.0",
          "state": {
            "_view_name": "HBoxView",
            "_dom_classes": [],
            "_model_name": "HBoxModel",
            "_view_module": "@jupyter-widgets/controls",
            "_model_module_version": "1.5.0",
            "_view_count": null,
            "_view_module_version": "1.5.0",
            "box_style": "",
            "layout": "IPY_MODEL_fdd20e68474e45d298f72a2b9d902e21",
            "_model_module": "@jupyter-widgets/controls",
            "children": [
              "IPY_MODEL_e1b54f0822ec442190c6e2f270fe6591",
              "IPY_MODEL_26d68beebfdf4e5d810f8d75b6d4c9a5",
              "IPY_MODEL_f73b044028bf403a90e37469bd517006"
            ]
          }
        },
        "fdd20e68474e45d298f72a2b9d902e21": {
          "model_module": "@jupyter-widgets/base",
          "model_name": "LayoutModel",
          "model_module_version": "1.2.0",
          "state": {
            "_view_name": "LayoutView",
            "grid_template_rows": null,
            "right": null,
            "justify_content": null,
            "_view_module": "@jupyter-widgets/base",
            "overflow": null,
            "_model_module_version": "1.2.0",
            "_view_count": null,
            "flex_flow": null,
            "width": null,
            "min_width": null,
            "border": null,
            "align_items": null,
            "bottom": null,
            "_model_module": "@jupyter-widgets/base",
            "top": null,
            "grid_column": null,
            "overflow_y": null,
            "overflow_x": null,
            "grid_auto_flow": null,
            "grid_area": null,
            "grid_template_columns": null,
            "flex": null,
            "_model_name": "LayoutModel",
            "justify_items": null,
            "grid_row": null,
            "max_height": null,
            "align_content": null,
            "visibility": null,
            "align_self": null,
            "height": null,
            "min_height": null,
            "padding": null,
            "grid_auto_rows": null,
            "grid_gap": null,
            "max_width": null,
            "order": null,
            "_view_module_version": "1.2.0",
            "grid_template_areas": null,
            "object_position": null,
            "object_fit": null,
            "grid_auto_columns": null,
            "margin": null,
            "display": null,
            "left": null
          }
        },
        "e1b54f0822ec442190c6e2f270fe6591": {
          "model_module": "@jupyter-widgets/controls",
          "model_name": "HTMLModel",
          "model_module_version": "1.5.0",
          "state": {
            "_view_name": "HTMLView",
            "style": "IPY_MODEL_7d5970acf3f7402dbc1798bc853c9049",
            "_dom_classes": [],
            "description": "",
            "_model_name": "HTMLModel",
            "placeholder": "​",
            "_view_module": "@jupyter-widgets/controls",
            "_model_module_version": "1.5.0",
            "value": "Render HTML: 100%",
            "_view_count": null,
            "_view_module_version": "1.5.0",
            "description_tooltip": null,
            "_model_module": "@jupyter-widgets/controls",
            "layout": "IPY_MODEL_4ea68f1508bc4c03897c8c623b2afd1c"
          }
        },
        "26d68beebfdf4e5d810f8d75b6d4c9a5": {
          "model_module": "@jupyter-widgets/controls",
          "model_name": "FloatProgressModel",
          "model_module_version": "1.5.0",
          "state": {
            "_view_name": "ProgressView",
            "style": "IPY_MODEL_a9af2349741d47f1b74ed75cee751938",
            "_dom_classes": [],
            "description": "",
            "_model_name": "FloatProgressModel",
            "bar_style": "success",
            "max": 1,
            "_view_module": "@jupyter-widgets/controls",
            "_model_module_version": "1.5.0",
            "value": 1,
            "_view_count": null,
            "_view_module_version": "1.5.0",
            "orientation": "horizontal",
            "min": 0,
            "description_tooltip": null,
            "_model_module": "@jupyter-widgets/controls",
            "layout": "IPY_MODEL_093c8db9018e4723b75ae6768e899c70"
          }
        },
        "f73b044028bf403a90e37469bd517006": {
          "model_module": "@jupyter-widgets/controls",
          "model_name": "HTMLModel",
          "model_module_version": "1.5.0",
          "state": {
            "_view_name": "HTMLView",
            "style": "IPY_MODEL_bec8e5a598a843e7b85ad084e46b6cc7",
            "_dom_classes": [],
            "description": "",
            "_model_name": "HTMLModel",
            "placeholder": "​",
            "_view_module": "@jupyter-widgets/controls",
            "_model_module_version": "1.5.0",
            "value": " 1/1 [00:01&lt;00:00,  1.44s/it]",
            "_view_count": null,
            "_view_module_version": "1.5.0",
            "description_tooltip": null,
            "_model_module": "@jupyter-widgets/controls",
            "layout": "IPY_MODEL_540c2e03d6bd49368721d2568eae36e7"
          }
        },
        "7d5970acf3f7402dbc1798bc853c9049": {
          "model_module": "@jupyter-widgets/controls",
          "model_name": "DescriptionStyleModel",
          "model_module_version": "1.5.0",
          "state": {
            "_view_name": "StyleView",
            "_model_name": "DescriptionStyleModel",
            "description_width": "",
            "_view_module": "@jupyter-widgets/base",
            "_model_module_version": "1.5.0",
            "_view_count": null,
            "_view_module_version": "1.2.0",
            "_model_module": "@jupyter-widgets/controls"
          }
        },
        "4ea68f1508bc4c03897c8c623b2afd1c": {
          "model_module": "@jupyter-widgets/base",
          "model_name": "LayoutModel",
          "model_module_version": "1.2.0",
          "state": {
            "_view_name": "LayoutView",
            "grid_template_rows": null,
            "right": null,
            "justify_content": null,
            "_view_module": "@jupyter-widgets/base",
            "overflow": null,
            "_model_module_version": "1.2.0",
            "_view_count": null,
            "flex_flow": null,
            "width": null,
            "min_width": null,
            "border": null,
            "align_items": null,
            "bottom": null,
            "_model_module": "@jupyter-widgets/base",
            "top": null,
            "grid_column": null,
            "overflow_y": null,
            "overflow_x": null,
            "grid_auto_flow": null,
            "grid_area": null,
            "grid_template_columns": null,
            "flex": null,
            "_model_name": "LayoutModel",
            "justify_items": null,
            "grid_row": null,
            "max_height": null,
            "align_content": null,
            "visibility": null,
            "align_self": null,
            "height": null,
            "min_height": null,
            "padding": null,
            "grid_auto_rows": null,
            "grid_gap": null,
            "max_width": null,
            "order": null,
            "_view_module_version": "1.2.0",
            "grid_template_areas": null,
            "object_position": null,
            "object_fit": null,
            "grid_auto_columns": null,
            "margin": null,
            "display": null,
            "left": null
          }
        },
        "a9af2349741d47f1b74ed75cee751938": {
          "model_module": "@jupyter-widgets/controls",
          "model_name": "ProgressStyleModel",
          "model_module_version": "1.5.0",
          "state": {
            "_view_name": "StyleView",
            "_model_name": "ProgressStyleModel",
            "description_width": "",
            "_view_module": "@jupyter-widgets/base",
            "_model_module_version": "1.5.0",
            "_view_count": null,
            "_view_module_version": "1.2.0",
            "bar_color": null,
            "_model_module": "@jupyter-widgets/controls"
          }
        },
        "093c8db9018e4723b75ae6768e899c70": {
          "model_module": "@jupyter-widgets/base",
          "model_name": "LayoutModel",
          "model_module_version": "1.2.0",
          "state": {
            "_view_name": "LayoutView",
            "grid_template_rows": null,
            "right": null,
            "justify_content": null,
            "_view_module": "@jupyter-widgets/base",
            "overflow": null,
            "_model_module_version": "1.2.0",
            "_view_count": null,
            "flex_flow": null,
            "width": null,
            "min_width": null,
            "border": null,
            "align_items": null,
            "bottom": null,
            "_model_module": "@jupyter-widgets/base",
            "top": null,
            "grid_column": null,
            "overflow_y": null,
            "overflow_x": null,
            "grid_auto_flow": null,
            "grid_area": null,
            "grid_template_columns": null,
            "flex": null,
            "_model_name": "LayoutModel",
            "justify_items": null,
            "grid_row": null,
            "max_height": null,
            "align_content": null,
            "visibility": null,
            "align_self": null,
            "height": null,
            "min_height": null,
            "padding": null,
            "grid_auto_rows": null,
            "grid_gap": null,
            "max_width": null,
            "order": null,
            "_view_module_version": "1.2.0",
            "grid_template_areas": null,
            "object_position": null,
            "object_fit": null,
            "grid_auto_columns": null,
            "margin": null,
            "display": null,
            "left": null
          }
        },
        "bec8e5a598a843e7b85ad084e46b6cc7": {
          "model_module": "@jupyter-widgets/controls",
          "model_name": "DescriptionStyleModel",
          "model_module_version": "1.5.0",
          "state": {
            "_view_name": "StyleView",
            "_model_name": "DescriptionStyleModel",
            "description_width": "",
            "_view_module": "@jupyter-widgets/base",
            "_model_module_version": "1.5.0",
            "_view_count": null,
            "_view_module_version": "1.2.0",
            "_model_module": "@jupyter-widgets/controls"
          }
        },
        "540c2e03d6bd49368721d2568eae36e7": {
          "model_module": "@jupyter-widgets/base",
          "model_name": "LayoutModel",
          "model_module_version": "1.2.0",
          "state": {
            "_view_name": "LayoutView",
            "grid_template_rows": null,
            "right": null,
            "justify_content": null,
            "_view_module": "@jupyter-widgets/base",
            "overflow": null,
            "_model_module_version": "1.2.0",
            "_view_count": null,
            "flex_flow": null,
            "width": null,
            "min_width": null,
            "border": null,
            "align_items": null,
            "bottom": null,
            "_model_module": "@jupyter-widgets/base",
            "top": null,
            "grid_column": null,
            "overflow_y": null,
            "overflow_x": null,
            "grid_auto_flow": null,
            "grid_area": null,
            "grid_template_columns": null,
            "flex": null,
            "_model_name": "LayoutModel",
            "justify_items": null,
            "grid_row": null,
            "max_height": null,
            "align_content": null,
            "visibility": null,
            "align_self": null,
            "height": null,
            "min_height": null,
            "padding": null,
            "grid_auto_rows": null,
            "grid_gap": null,
            "max_width": null,
            "order": null,
            "_view_module_version": "1.2.0",
            "grid_template_areas": null,
            "object_position": null,
            "object_fit": null,
            "grid_auto_columns": null,
            "margin": null,
            "display": null,
            "left": null
          }
        },
        "f0b3eac42eba4174af94e91141c7c016": {
          "model_module": "@jupyter-widgets/controls",
          "model_name": "HBoxModel",
          "model_module_version": "1.5.0",
          "state": {
            "_view_name": "HBoxView",
            "_dom_classes": [],
            "_model_name": "HBoxModel",
            "_view_module": "@jupyter-widgets/controls",
            "_model_module_version": "1.5.0",
            "_view_count": null,
            "_view_module_version": "1.5.0",
            "box_style": "",
            "layout": "IPY_MODEL_5a438ccf27dc4d40a518eb3d3f320a35",
            "_model_module": "@jupyter-widgets/controls",
            "children": [
              "IPY_MODEL_d40b2ad37e94471892c14fb6160bc36e",
              "IPY_MODEL_caeb762a3861452f94166156ef70e627",
              "IPY_MODEL_da206276413d4aebb6621a5b9369c042"
            ]
          }
        },
        "5a438ccf27dc4d40a518eb3d3f320a35": {
          "model_module": "@jupyter-widgets/base",
          "model_name": "LayoutModel",
          "model_module_version": "1.2.0",
          "state": {
            "_view_name": "LayoutView",
            "grid_template_rows": null,
            "right": null,
            "justify_content": null,
            "_view_module": "@jupyter-widgets/base",
            "overflow": null,
            "_model_module_version": "1.2.0",
            "_view_count": null,
            "flex_flow": null,
            "width": null,
            "min_width": null,
            "border": null,
            "align_items": null,
            "bottom": null,
            "_model_module": "@jupyter-widgets/base",
            "top": null,
            "grid_column": null,
            "overflow_y": null,
            "overflow_x": null,
            "grid_auto_flow": null,
            "grid_area": null,
            "grid_template_columns": null,
            "flex": null,
            "_model_name": "LayoutModel",
            "justify_items": null,
            "grid_row": null,
            "max_height": null,
            "align_content": null,
            "visibility": null,
            "align_self": null,
            "height": null,
            "min_height": null,
            "padding": null,
            "grid_auto_rows": null,
            "grid_gap": null,
            "max_width": null,
            "order": null,
            "_view_module_version": "1.2.0",
            "grid_template_areas": null,
            "object_position": null,
            "object_fit": null,
            "grid_auto_columns": null,
            "margin": null,
            "display": null,
            "left": null
          }
        },
        "d40b2ad37e94471892c14fb6160bc36e": {
          "model_module": "@jupyter-widgets/controls",
          "model_name": "HTMLModel",
          "model_module_version": "1.5.0",
          "state": {
            "_view_name": "HTMLView",
            "style": "IPY_MODEL_6ad6e25816f6494295271ed4c92d62f9",
            "_dom_classes": [],
            "description": "",
            "_model_name": "HTMLModel",
            "placeholder": "​",
            "_view_module": "@jupyter-widgets/controls",
            "_model_module_version": "1.5.0",
            "value": "Export report to file: 100%",
            "_view_count": null,
            "_view_module_version": "1.5.0",
            "description_tooltip": null,
            "_model_module": "@jupyter-widgets/controls",
            "layout": "IPY_MODEL_9f1f29e7153a44c293f63ca99ed573f6"
          }
        },
        "caeb762a3861452f94166156ef70e627": {
          "model_module": "@jupyter-widgets/controls",
          "model_name": "FloatProgressModel",
          "model_module_version": "1.5.0",
          "state": {
            "_view_name": "ProgressView",
            "style": "IPY_MODEL_f0a5417d643240a2ad062acc78c0404a",
            "_dom_classes": [],
            "description": "",
            "_model_name": "FloatProgressModel",
            "bar_style": "success",
            "max": 1,
            "_view_module": "@jupyter-widgets/controls",
            "_model_module_version": "1.5.0",
            "value": 1,
            "_view_count": null,
            "_view_module_version": "1.5.0",
            "orientation": "horizontal",
            "min": 0,
            "description_tooltip": null,
            "_model_module": "@jupyter-widgets/controls",
            "layout": "IPY_MODEL_fd663cf12a984027ad2464b773074261"
          }
        },
        "da206276413d4aebb6621a5b9369c042": {
          "model_module": "@jupyter-widgets/controls",
          "model_name": "HTMLModel",
          "model_module_version": "1.5.0",
          "state": {
            "_view_name": "HTMLView",
            "style": "IPY_MODEL_c442bf0e862342ce81abb34bb34c42fb",
            "_dom_classes": [],
            "description": "",
            "_model_name": "HTMLModel",
            "placeholder": "​",
            "_view_module": "@jupyter-widgets/controls",
            "_model_module_version": "1.5.0",
            "value": " 1/1 [00:00&lt;00:00, 13.36it/s]",
            "_view_count": null,
            "_view_module_version": "1.5.0",
            "description_tooltip": null,
            "_model_module": "@jupyter-widgets/controls",
            "layout": "IPY_MODEL_8d6ae4bf05fa4e48a89babe642e97c12"
          }
        },
        "6ad6e25816f6494295271ed4c92d62f9": {
          "model_module": "@jupyter-widgets/controls",
          "model_name": "DescriptionStyleModel",
          "model_module_version": "1.5.0",
          "state": {
            "_view_name": "StyleView",
            "_model_name": "DescriptionStyleModel",
            "description_width": "",
            "_view_module": "@jupyter-widgets/base",
            "_model_module_version": "1.5.0",
            "_view_count": null,
            "_view_module_version": "1.2.0",
            "_model_module": "@jupyter-widgets/controls"
          }
        },
        "9f1f29e7153a44c293f63ca99ed573f6": {
          "model_module": "@jupyter-widgets/base",
          "model_name": "LayoutModel",
          "model_module_version": "1.2.0",
          "state": {
            "_view_name": "LayoutView",
            "grid_template_rows": null,
            "right": null,
            "justify_content": null,
            "_view_module": "@jupyter-widgets/base",
            "overflow": null,
            "_model_module_version": "1.2.0",
            "_view_count": null,
            "flex_flow": null,
            "width": null,
            "min_width": null,
            "border": null,
            "align_items": null,
            "bottom": null,
            "_model_module": "@jupyter-widgets/base",
            "top": null,
            "grid_column": null,
            "overflow_y": null,
            "overflow_x": null,
            "grid_auto_flow": null,
            "grid_area": null,
            "grid_template_columns": null,
            "flex": null,
            "_model_name": "LayoutModel",
            "justify_items": null,
            "grid_row": null,
            "max_height": null,
            "align_content": null,
            "visibility": null,
            "align_self": null,
            "height": null,
            "min_height": null,
            "padding": null,
            "grid_auto_rows": null,
            "grid_gap": null,
            "max_width": null,
            "order": null,
            "_view_module_version": "1.2.0",
            "grid_template_areas": null,
            "object_position": null,
            "object_fit": null,
            "grid_auto_columns": null,
            "margin": null,
            "display": null,
            "left": null
          }
        },
        "f0a5417d643240a2ad062acc78c0404a": {
          "model_module": "@jupyter-widgets/controls",
          "model_name": "ProgressStyleModel",
          "model_module_version": "1.5.0",
          "state": {
            "_view_name": "StyleView",
            "_model_name": "ProgressStyleModel",
            "description_width": "",
            "_view_module": "@jupyter-widgets/base",
            "_model_module_version": "1.5.0",
            "_view_count": null,
            "_view_module_version": "1.2.0",
            "bar_color": null,
            "_model_module": "@jupyter-widgets/controls"
          }
        },
        "fd663cf12a984027ad2464b773074261": {
          "model_module": "@jupyter-widgets/base",
          "model_name": "LayoutModel",
          "model_module_version": "1.2.0",
          "state": {
            "_view_name": "LayoutView",
            "grid_template_rows": null,
            "right": null,
            "justify_content": null,
            "_view_module": "@jupyter-widgets/base",
            "overflow": null,
            "_model_module_version": "1.2.0",
            "_view_count": null,
            "flex_flow": null,
            "width": null,
            "min_width": null,
            "border": null,
            "align_items": null,
            "bottom": null,
            "_model_module": "@jupyter-widgets/base",
            "top": null,
            "grid_column": null,
            "overflow_y": null,
            "overflow_x": null,
            "grid_auto_flow": null,
            "grid_area": null,
            "grid_template_columns": null,
            "flex": null,
            "_model_name": "LayoutModel",
            "justify_items": null,
            "grid_row": null,
            "max_height": null,
            "align_content": null,
            "visibility": null,
            "align_self": null,
            "height": null,
            "min_height": null,
            "padding": null,
            "grid_auto_rows": null,
            "grid_gap": null,
            "max_width": null,
            "order": null,
            "_view_module_version": "1.2.0",
            "grid_template_areas": null,
            "object_position": null,
            "object_fit": null,
            "grid_auto_columns": null,
            "margin": null,
            "display": null,
            "left": null
          }
        },
        "c442bf0e862342ce81abb34bb34c42fb": {
          "model_module": "@jupyter-widgets/controls",
          "model_name": "DescriptionStyleModel",
          "model_module_version": "1.5.0",
          "state": {
            "_view_name": "StyleView",
            "_model_name": "DescriptionStyleModel",
            "description_width": "",
            "_view_module": "@jupyter-widgets/base",
            "_model_module_version": "1.5.0",
            "_view_count": null,
            "_view_module_version": "1.2.0",
            "_model_module": "@jupyter-widgets/controls"
          }
        },
        "8d6ae4bf05fa4e48a89babe642e97c12": {
          "model_module": "@jupyter-widgets/base",
          "model_name": "LayoutModel",
          "model_module_version": "1.2.0",
          "state": {
            "_view_name": "LayoutView",
            "grid_template_rows": null,
            "right": null,
            "justify_content": null,
            "_view_module": "@jupyter-widgets/base",
            "overflow": null,
            "_model_module_version": "1.2.0",
            "_view_count": null,
            "flex_flow": null,
            "width": null,
            "min_width": null,
            "border": null,
            "align_items": null,
            "bottom": null,
            "_model_module": "@jupyter-widgets/base",
            "top": null,
            "grid_column": null,
            "overflow_y": null,
            "overflow_x": null,
            "grid_auto_flow": null,
            "grid_area": null,
            "grid_template_columns": null,
            "flex": null,
            "_model_name": "LayoutModel",
            "justify_items": null,
            "grid_row": null,
            "max_height": null,
            "align_content": null,
            "visibility": null,
            "align_self": null,
            "height": null,
            "min_height": null,
            "padding": null,
            "grid_auto_rows": null,
            "grid_gap": null,
            "max_width": null,
            "order": null,
            "_view_module_version": "1.2.0",
            "grid_template_areas": null,
            "object_position": null,
            "object_fit": null,
            "grid_auto_columns": null,
            "margin": null,
            "display": null,
            "left": null
          }
        }
      }
    }
  },
  "cells": [
    {
      "cell_type": "markdown",
      "metadata": {
        "id": "9ku0h8OsoHJz"
      },
      "source": [
        "<p align=\"center\"><img src=\"https://github.com/insaid2018/Term-1/blob/master/Images/INSAID_Full%20Logo.png?raw=true\" width=\"260\" height=\"110\" /></p>"
      ]
    },
    {
      "cell_type": "markdown",
      "metadata": {
        "id": "NWvRwRdGoK5Y"
      },
      "source": [
        "---\n",
        "# **Table of Contents**\n",
        "---\n",
        "\n",
        "1. [**Introduction**](#Section1)<br>\n",
        "2. [**Problem Statement**](#Section2)<br>\n",
        "3. [**Installing & Importing Libraries**](#Section3)<br>\n",
        "  3.1 [**Installing Libraries**](#Section31)<br>\n",
        "  3.2 [**Upgrading Libraries**](#Section32)<br>\n",
        "  3.3 [**Importing Libraries**](#Section33)<br>\n",
        "4. [**Data Acquisition & Description**](#Section4)<br>\n",
        "5. [**Data Pre-Profiling**](#Section5)<br>\n",
        "6. [**Data Pre-Processing**](#Section6)<br>\n",
        "7. [**Data Post-Profiling**](#Section7)<br>\n",
        "8. [**Exploratory Data Analysis**](#Section8)<br>\n",
        "9. [**Summarization**](#Section9)</br>\n",
        "  9.1 [**Conclusion**](#Section91)</br>\n",
        "  9.2 [**Actionable Insights**](#Section91)</br>\n",
        "\n",
        "---"
      ]
    },
    {
      "cell_type": "markdown",
      "metadata": {
        "id": "iACv_4iIoaLi"
      },
      "source": [
        "---\n",
        "<a name = Section1></a>\n",
        "# **1. Introduction**\n",
        "---\n",
        "\n",
        "- Many economist see car sales as an indicator to GDP. They believe \"if people feel rich, they will buy cars\"\n",
        "\n",
        "- With increasing GDP, people's living standard has also elevated globally. People are buying cars like never before but these all are not only the brand new cars but the used cars as well\n",
        "\n",
        "- So what makes someone buy a used car?\n",
        "  - A used car will be priced much less than the new car\n",
        "  - It'll also fulfil the same purpose - status, comfort, convenience, etc\n",
        "  - Used car can be a first choice for people who recently got their licence\n",
        "\n",
        "- What you expect the most from a used car?\n",
        "  - You want it to be as reliable as a new car\n",
        "  - For this the used car companies have started focusing on the health of the car and after sales service\n",
        "\n",
        "<p align=\"center\"><img src=\"https://visme.co/blog/wp-content/uploads/2020/06/animated-interactive-infographics-header-wide.gif\"></p>\n"
      ]
    },
    {
      "cell_type": "markdown",
      "metadata": {
        "id": "sOGJAM3AoePy"
      },
      "source": [
        "---\n",
        "<a name = Section2></a>\n",
        "# **2. Problem Statement**\n",
        "---\n",
        "- **Scenario:**\n",
        "\n",
        "  - 'Dream Cars' is a company that buys & sells used cars\n",
        "  - The company promise to provide three things\n",
        "    - Best Price\n",
        "    - Best Car Condition & Performance\n",
        "    - Best After Sales Service\n",
        "  - The company is looking to improve their business strategy & sales"
      ]
    },
    {
      "cell_type": "markdown",
      "metadata": {
        "id": "yzSAH3m9pLWi"
      },
      "source": [
        "---\n",
        "<a id = Section3></a>\n",
        "# **3. Installing & Importing Libraries**\n",
        "---\n"
      ]
    },
    {
      "cell_type": "markdown",
      "metadata": {
        "id": "M0y7joFPpOuQ"
      },
      "source": [
        "### **Installing Libraries**"
      ]
    },
    {
      "cell_type": "code",
      "metadata": {
        "id": "S3pqantTnmxX"
      },
      "source": [
        "!pip install -q datascience                                         # Package that is required by pandas profiling\n",
        "!pip install -q pandas-profiling                                    # Library to generate basic statistics about data\n",
        "# To install more libraries insert your code here.."
      ],
      "execution_count": 1,
      "outputs": []
    },
    {
      "cell_type": "markdown",
      "metadata": {
        "id": "pYQrkcl4pe8J"
      },
      "source": [
        "### **Upgrading Libraries**\n",
        "\n",
        "- **After upgrading** the libraries, you need to **restart the runtime** to make the libraries in sync.\n",
        "\n",
        "- Make sure not to execute the cell under Installing Libraries and Upgrading Libraries again after restarting the runtime."
      ]
    },
    {
      "cell_type": "code",
      "metadata": {
        "id": "dmiiVvd-phhY"
      },
      "source": [
        "!pip install -q --upgrade pandas-profiling                          # Upgrading pandas profiling to the latest version"
      ],
      "execution_count": 2,
      "outputs": []
    },
    {
      "cell_type": "markdown",
      "metadata": {
        "id": "PbyRyjDhpoJj"
      },
      "source": [
        "### **Importing Libraries**\n"
      ]
    },
    {
      "cell_type": "code",
      "metadata": {
        "id": "5RapekFlpptb"
      },
      "source": [
        "#-------------------------------------------------------------------------------------------------------------------------------\n",
        "import pandas as pd                                                 # Importing package pandas (For Panel Data Analysis)\n",
        "from pandas_profiling import ProfileReport                          # Import Pandas Profiling (To generate Univariate Analysis)\n",
        "#-------------------------------------------------------------------------------------------------------------------------------\n",
        "import numpy as np                                                  # Importing package numpys (For Numerical Python)\n",
        "#-------------------------------------------------------------------------------------------------------------------------------\n",
        "import matplotlib.pyplot as plt                                     # Importing pyplot interface to use matplotlib\n",
        "import seaborn as sns                                               # Importing seaborn library for interactive visualization\n",
        "%matplotlib inline\n",
        "from sklearn.preprocessing import LabelEncoder                      # To perform label encoding\n",
        "#-------------------------------------------------------------------------------------------------------------------------------\n",
        "import scipy as sp                                                  # Importing library for scientific calculations\n",
        "#-------------------------------------------------------------------------------------------------------------------------------"
      ],
      "execution_count": 3,
      "outputs": []
    },
    {
      "cell_type": "markdown",
      "metadata": {
        "id": "ys9Qb4OlpzvZ"
      },
      "source": [
        "---\n",
        "<a name = Section4></a>\n",
        "# **4. Data Acquisition & Description**\n",
        "---\n",
        "\n",
        "- Lets check the available column names and their description of our used car dataset\n",
        "\n",
        "|Id|Feature|Description|\n",
        "|:--|:--|:--|\n",
        "|01| car           | Car brand name| \n",
        "|02| model         | Available car different Variants|  \n",
        "|03| year          | purchasing Year| \n",
        "|04| body          | Body type-Hatchback, Sedan, Crossover etc|   \n",
        "|05| mileage       | car Mileage|\n",
        "|06| engV          | Engine version|\n",
        "|07| engType       | Car Fuel type - Petrol, Diesel, gas etc|\n",
        "|08| drive         | Wheel Drive Front, back|\n",
        "|09| registration  | Check if the vehicle is registered|\n",
        "|10| price         | Price of Car in $|\n"
      ]
    },
    {
      "cell_type": "markdown",
      "metadata": {
        "id": "koDAJ68pyBWk"
      },
      "source": [
        "### **4.1 Read Data**"
      ]
    },
    {
      "cell_type": "code",
      "metadata": {
        "id": "aXPrewndpw1T",
        "colab": {
          "base_uri": "https://localhost:8080/",
          "height": 221
        },
        "outputId": "7db6ca81-acce-403a-f1fc-5e2a198df6e6"
      },
      "source": [
        "df_cars = pd.read_csv(filepath_or_buffer = 'https://raw.githubusercontent.com/insaid2018/Term-1/master/Data/Projects/car_sales.csv', encoding='cp1252')\n",
        "print('Data Shape:', df_cars.shape)\n",
        "df_cars.head()"
      ],
      "execution_count": 4,
      "outputs": [
        {
          "output_type": "stream",
          "name": "stdout",
          "text": [
            "Data Shape: (9576, 10)\n"
          ]
        },
        {
          "output_type": "execute_result",
          "data": {
            "text/html": [
              "<div>\n",
              "<style scoped>\n",
              "    .dataframe tbody tr th:only-of-type {\n",
              "        vertical-align: middle;\n",
              "    }\n",
              "\n",
              "    .dataframe tbody tr th {\n",
              "        vertical-align: top;\n",
              "    }\n",
              "\n",
              "    .dataframe thead th {\n",
              "        text-align: right;\n",
              "    }\n",
              "</style>\n",
              "<table border=\"1\" class=\"dataframe\">\n",
              "  <thead>\n",
              "    <tr style=\"text-align: right;\">\n",
              "      <th></th>\n",
              "      <th>car</th>\n",
              "      <th>price</th>\n",
              "      <th>body</th>\n",
              "      <th>mileage</th>\n",
              "      <th>engV</th>\n",
              "      <th>engType</th>\n",
              "      <th>registration</th>\n",
              "      <th>year</th>\n",
              "      <th>model</th>\n",
              "      <th>drive</th>\n",
              "    </tr>\n",
              "  </thead>\n",
              "  <tbody>\n",
              "    <tr>\n",
              "      <th>0</th>\n",
              "      <td>Ford</td>\n",
              "      <td>15500.0</td>\n",
              "      <td>crossover</td>\n",
              "      <td>68</td>\n",
              "      <td>2.5</td>\n",
              "      <td>Gas</td>\n",
              "      <td>yes</td>\n",
              "      <td>2010</td>\n",
              "      <td>Kuga</td>\n",
              "      <td>full</td>\n",
              "    </tr>\n",
              "    <tr>\n",
              "      <th>1</th>\n",
              "      <td>Mercedes-Benz</td>\n",
              "      <td>20500.0</td>\n",
              "      <td>sedan</td>\n",
              "      <td>173</td>\n",
              "      <td>1.8</td>\n",
              "      <td>Gas</td>\n",
              "      <td>yes</td>\n",
              "      <td>2011</td>\n",
              "      <td>E-Class</td>\n",
              "      <td>rear</td>\n",
              "    </tr>\n",
              "    <tr>\n",
              "      <th>2</th>\n",
              "      <td>Mercedes-Benz</td>\n",
              "      <td>35000.0</td>\n",
              "      <td>other</td>\n",
              "      <td>135</td>\n",
              "      <td>5.5</td>\n",
              "      <td>Petrol</td>\n",
              "      <td>yes</td>\n",
              "      <td>2008</td>\n",
              "      <td>CL 550</td>\n",
              "      <td>rear</td>\n",
              "    </tr>\n",
              "    <tr>\n",
              "      <th>3</th>\n",
              "      <td>Mercedes-Benz</td>\n",
              "      <td>17800.0</td>\n",
              "      <td>van</td>\n",
              "      <td>162</td>\n",
              "      <td>1.8</td>\n",
              "      <td>Diesel</td>\n",
              "      <td>yes</td>\n",
              "      <td>2012</td>\n",
              "      <td>B 180</td>\n",
              "      <td>front</td>\n",
              "    </tr>\n",
              "    <tr>\n",
              "      <th>4</th>\n",
              "      <td>Mercedes-Benz</td>\n",
              "      <td>33000.0</td>\n",
              "      <td>vagon</td>\n",
              "      <td>91</td>\n",
              "      <td>NaN</td>\n",
              "      <td>Other</td>\n",
              "      <td>yes</td>\n",
              "      <td>2013</td>\n",
              "      <td>E-Class</td>\n",
              "      <td>NaN</td>\n",
              "    </tr>\n",
              "  </tbody>\n",
              "</table>\n",
              "</div>"
            ],
            "text/plain": [
              "             car    price       body  ...  year    model  drive\n",
              "0           Ford  15500.0  crossover  ...  2010     Kuga   full\n",
              "1  Mercedes-Benz  20500.0      sedan  ...  2011  E-Class   rear\n",
              "2  Mercedes-Benz  35000.0      other  ...  2008   CL 550   rear\n",
              "3  Mercedes-Benz  17800.0        van  ...  2012    B 180  front\n",
              "4  Mercedes-Benz  33000.0      vagon  ...  2013  E-Class    NaN\n",
              "\n",
              "[5 rows x 10 columns]"
            ]
          },
          "metadata": {},
          "execution_count": 4
        }
      ]
    },
    {
      "cell_type": "code",
      "metadata": {
        "colab": {
          "base_uri": "https://localhost:8080/",
          "height": 204
        },
        "id": "PeKW8bPyxpH2",
        "outputId": "179fe308-26e6-49e8-fb33-1096883c103e"
      },
      "source": [
        "df_cars.tail()"
      ],
      "execution_count": 5,
      "outputs": [
        {
          "output_type": "execute_result",
          "data": {
            "text/html": [
              "<div>\n",
              "<style scoped>\n",
              "    .dataframe tbody tr th:only-of-type {\n",
              "        vertical-align: middle;\n",
              "    }\n",
              "\n",
              "    .dataframe tbody tr th {\n",
              "        vertical-align: top;\n",
              "    }\n",
              "\n",
              "    .dataframe thead th {\n",
              "        text-align: right;\n",
              "    }\n",
              "</style>\n",
              "<table border=\"1\" class=\"dataframe\">\n",
              "  <thead>\n",
              "    <tr style=\"text-align: right;\">\n",
              "      <th></th>\n",
              "      <th>car</th>\n",
              "      <th>price</th>\n",
              "      <th>body</th>\n",
              "      <th>mileage</th>\n",
              "      <th>engV</th>\n",
              "      <th>engType</th>\n",
              "      <th>registration</th>\n",
              "      <th>year</th>\n",
              "      <th>model</th>\n",
              "      <th>drive</th>\n",
              "    </tr>\n",
              "  </thead>\n",
              "  <tbody>\n",
              "    <tr>\n",
              "      <th>9571</th>\n",
              "      <td>Hyundai</td>\n",
              "      <td>14500.0</td>\n",
              "      <td>crossover</td>\n",
              "      <td>140</td>\n",
              "      <td>2.0</td>\n",
              "      <td>Gas</td>\n",
              "      <td>yes</td>\n",
              "      <td>2011</td>\n",
              "      <td>Tucson</td>\n",
              "      <td>front</td>\n",
              "    </tr>\n",
              "    <tr>\n",
              "      <th>9572</th>\n",
              "      <td>Volkswagen</td>\n",
              "      <td>2200.0</td>\n",
              "      <td>vagon</td>\n",
              "      <td>150</td>\n",
              "      <td>1.6</td>\n",
              "      <td>Petrol</td>\n",
              "      <td>yes</td>\n",
              "      <td>1986</td>\n",
              "      <td>Passat B2</td>\n",
              "      <td>front</td>\n",
              "    </tr>\n",
              "    <tr>\n",
              "      <th>9573</th>\n",
              "      <td>Mercedes-Benz</td>\n",
              "      <td>18500.0</td>\n",
              "      <td>crossover</td>\n",
              "      <td>180</td>\n",
              "      <td>3.5</td>\n",
              "      <td>Petrol</td>\n",
              "      <td>yes</td>\n",
              "      <td>2008</td>\n",
              "      <td>ML 350</td>\n",
              "      <td>full</td>\n",
              "    </tr>\n",
              "    <tr>\n",
              "      <th>9574</th>\n",
              "      <td>Lexus</td>\n",
              "      <td>16999.0</td>\n",
              "      <td>sedan</td>\n",
              "      <td>150</td>\n",
              "      <td>3.5</td>\n",
              "      <td>Gas</td>\n",
              "      <td>yes</td>\n",
              "      <td>2008</td>\n",
              "      <td>ES 350</td>\n",
              "      <td>front</td>\n",
              "    </tr>\n",
              "    <tr>\n",
              "      <th>9575</th>\n",
              "      <td>Audi</td>\n",
              "      <td>22500.0</td>\n",
              "      <td>other</td>\n",
              "      <td>71</td>\n",
              "      <td>3.6</td>\n",
              "      <td>Petrol</td>\n",
              "      <td>yes</td>\n",
              "      <td>2007</td>\n",
              "      <td>Q7</td>\n",
              "      <td>full</td>\n",
              "    </tr>\n",
              "  </tbody>\n",
              "</table>\n",
              "</div>"
            ],
            "text/plain": [
              "                car    price       body  ...  year      model  drive\n",
              "9571        Hyundai  14500.0  crossover  ...  2011     Tucson  front\n",
              "9572     Volkswagen   2200.0      vagon  ...  1986  Passat B2  front\n",
              "9573  Mercedes-Benz  18500.0  crossover  ...  2008     ML 350   full\n",
              "9574          Lexus  16999.0      sedan  ...  2008     ES 350  front\n",
              "9575           Audi  22500.0      other  ...  2007         Q7   full\n",
              "\n",
              "[5 rows x 10 columns]"
            ]
          },
          "metadata": {},
          "execution_count": 5
        }
      ]
    },
    {
      "cell_type": "markdown",
      "metadata": {
        "id": "FfkdFrL_qMPn"
      },
      "source": [
        "### **4.2 Data Description**"
      ]
    },
    {
      "cell_type": "code",
      "metadata": {
        "id": "cLs4jsSuqJjC",
        "colab": {
          "base_uri": "https://localhost:8080/",
          "height": 297
        },
        "outputId": "98bd4fef-ceae-4553-edd0-533fd196f2c8"
      },
      "source": [
        "df_cars.describe()"
      ],
      "execution_count": 6,
      "outputs": [
        {
          "output_type": "execute_result",
          "data": {
            "text/html": [
              "<div>\n",
              "<style scoped>\n",
              "    .dataframe tbody tr th:only-of-type {\n",
              "        vertical-align: middle;\n",
              "    }\n",
              "\n",
              "    .dataframe tbody tr th {\n",
              "        vertical-align: top;\n",
              "    }\n",
              "\n",
              "    .dataframe thead th {\n",
              "        text-align: right;\n",
              "    }\n",
              "</style>\n",
              "<table border=\"1\" class=\"dataframe\">\n",
              "  <thead>\n",
              "    <tr style=\"text-align: right;\">\n",
              "      <th></th>\n",
              "      <th>price</th>\n",
              "      <th>mileage</th>\n",
              "      <th>engV</th>\n",
              "      <th>year</th>\n",
              "    </tr>\n",
              "  </thead>\n",
              "  <tbody>\n",
              "    <tr>\n",
              "      <th>count</th>\n",
              "      <td>9576.000000</td>\n",
              "      <td>9576.000000</td>\n",
              "      <td>9142.000000</td>\n",
              "      <td>9576.000000</td>\n",
              "    </tr>\n",
              "    <tr>\n",
              "      <th>mean</th>\n",
              "      <td>15633.317316</td>\n",
              "      <td>138.862364</td>\n",
              "      <td>2.646344</td>\n",
              "      <td>2006.605994</td>\n",
              "    </tr>\n",
              "    <tr>\n",
              "      <th>std</th>\n",
              "      <td>24106.523436</td>\n",
              "      <td>98.629754</td>\n",
              "      <td>5.927699</td>\n",
              "      <td>7.067924</td>\n",
              "    </tr>\n",
              "    <tr>\n",
              "      <th>min</th>\n",
              "      <td>0.000000</td>\n",
              "      <td>0.000000</td>\n",
              "      <td>0.100000</td>\n",
              "      <td>1953.000000</td>\n",
              "    </tr>\n",
              "    <tr>\n",
              "      <th>25%</th>\n",
              "      <td>4999.000000</td>\n",
              "      <td>70.000000</td>\n",
              "      <td>1.600000</td>\n",
              "      <td>2004.000000</td>\n",
              "    </tr>\n",
              "    <tr>\n",
              "      <th>50%</th>\n",
              "      <td>9200.000000</td>\n",
              "      <td>128.000000</td>\n",
              "      <td>2.000000</td>\n",
              "      <td>2008.000000</td>\n",
              "    </tr>\n",
              "    <tr>\n",
              "      <th>75%</th>\n",
              "      <td>16700.000000</td>\n",
              "      <td>194.000000</td>\n",
              "      <td>2.500000</td>\n",
              "      <td>2012.000000</td>\n",
              "    </tr>\n",
              "    <tr>\n",
              "      <th>max</th>\n",
              "      <td>547800.000000</td>\n",
              "      <td>999.000000</td>\n",
              "      <td>99.990000</td>\n",
              "      <td>2016.000000</td>\n",
              "    </tr>\n",
              "  </tbody>\n",
              "</table>\n",
              "</div>"
            ],
            "text/plain": [
              "               price      mileage         engV         year\n",
              "count    9576.000000  9576.000000  9142.000000  9576.000000\n",
              "mean    15633.317316   138.862364     2.646344  2006.605994\n",
              "std     24106.523436    98.629754     5.927699     7.067924\n",
              "min         0.000000     0.000000     0.100000  1953.000000\n",
              "25%      4999.000000    70.000000     1.600000  2004.000000\n",
              "50%      9200.000000   128.000000     2.000000  2008.000000\n",
              "75%     16700.000000   194.000000     2.500000  2012.000000\n",
              "max    547800.000000   999.000000    99.990000  2016.000000"
            ]
          },
          "metadata": {},
          "execution_count": 6
        }
      ]
    },
    {
      "cell_type": "markdown",
      "metadata": {
        "id": "uk8AuDrb71bT"
      },
      "source": [
        "**Initial Observations:**\n",
        "\n",
        "- Each observation here represents a car so we can say there are 9576 cars listed for sale, if there ain't any duplicate rows\n",
        "\n",
        "- The average price of car is 15,633 dollars and average mileage is approx 139\n",
        "- Minimum price is 0 which doesn't seems to be correct\n",
        "- Also the max values of price, mileage and engV are way higher than their 75th percentile that indicates possible outliers in the data\n",
        "- 75 % listed cars with purchased year between 2004 & 2016 - this is where we can focus\n"
      ]
    },
    {
      "cell_type": "markdown",
      "metadata": {
        "id": "lM-hljKpqXsp"
      },
      "source": [
        "### **4.3 Data Information**"
      ]
    },
    {
      "cell_type": "code",
      "metadata": {
        "id": "aPYZy6voqXc4",
        "colab": {
          "base_uri": "https://localhost:8080/"
        },
        "outputId": "d0258284-2e4a-4b48-dc70-37b8524c5d19"
      },
      "source": [
        "df_cars.info()"
      ],
      "execution_count": 7,
      "outputs": [
        {
          "output_type": "stream",
          "name": "stdout",
          "text": [
            "<class 'pandas.core.frame.DataFrame'>\n",
            "RangeIndex: 9576 entries, 0 to 9575\n",
            "Data columns (total 10 columns):\n",
            " #   Column        Non-Null Count  Dtype  \n",
            "---  ------        --------------  -----  \n",
            " 0   car           9576 non-null   object \n",
            " 1   price         9576 non-null   float64\n",
            " 2   body          9576 non-null   object \n",
            " 3   mileage       9576 non-null   int64  \n",
            " 4   engV          9142 non-null   float64\n",
            " 5   engType       9576 non-null   object \n",
            " 6   registration  9576 non-null   object \n",
            " 7   year          9576 non-null   int64  \n",
            " 8   model         9576 non-null   object \n",
            " 9   drive         9065 non-null   object \n",
            "dtypes: float64(2), int64(2), object(6)\n",
            "memory usage: 748.2+ KB\n"
          ]
        }
      ]
    },
    {
      "cell_type": "code",
      "metadata": {
        "colab": {
          "base_uri": "https://localhost:8080/"
        },
        "id": "ytcqL2uH1Zy-",
        "outputId": "193876a1-9006-4c0e-8fb6-286a076dda86"
      },
      "source": [
        "df_cars.car.nunique()"
      ],
      "execution_count": 8,
      "outputs": [
        {
          "output_type": "execute_result",
          "data": {
            "text/plain": [
              "87"
            ]
          },
          "metadata": {},
          "execution_count": 8
        }
      ]
    },
    {
      "cell_type": "code",
      "metadata": {
        "colab": {
          "base_uri": "https://localhost:8080/",
          "height": 35
        },
        "id": "JNY0x_rz2TAf",
        "outputId": "f30ccf60-603e-47b0-9f5d-0512aa1597d9"
      },
      "source": [
        "df_cars.car.value_counts().idxmax()"
      ],
      "execution_count": 9,
      "outputs": [
        {
          "output_type": "execute_result",
          "data": {
            "application/vnd.google.colaboratory.intrinsic+json": {
              "type": "string"
            },
            "text/plain": [
              "'Volkswagen'"
            ]
          },
          "metadata": {},
          "execution_count": 9
        }
      ]
    },
    {
      "cell_type": "code",
      "metadata": {
        "colab": {
          "base_uri": "https://localhost:8080/"
        },
        "id": "8vbGQKDv1hV8",
        "outputId": "efc68b32-946f-494c-d89d-930547002fd9"
      },
      "source": [
        "df_cars.isnull().sum()"
      ],
      "execution_count": 10,
      "outputs": [
        {
          "output_type": "execute_result",
          "data": {
            "text/plain": [
              "car               0\n",
              "price             0\n",
              "body              0\n",
              "mileage           0\n",
              "engV            434\n",
              "engType           0\n",
              "registration      0\n",
              "year              0\n",
              "model             0\n",
              "drive           511\n",
              "dtype: int64"
            ]
          },
          "metadata": {},
          "execution_count": 10
        }
      ]
    },
    {
      "cell_type": "markdown",
      "metadata": {
        "id": "UD5-u-n2fORc"
      },
      "source": [
        "**Initial Observations:**\n",
        "\n",
        "- There are missing values in engV(434) and drive(511) columns\n",
        "- Total 87 car brands are listed\n",
        "- Highest number of cars listed are from 'Volkswagen' brand"
      ]
    },
    {
      "cell_type": "markdown",
      "metadata": {
        "id": "efZ8svauqc55"
      },
      "source": [
        "---\n",
        "<a name = Section5></a>\n",
        "# **5. Data Pre-Profiling**\n",
        "---\n",
        "\n",
        "- In this section we'll perform pre-profiling of the data to do the following:\n",
        "    - Find duplicate rows\n",
        "    - Find Missing Values and Outliers\n",
        "    - Do a univariate analysis\n",
        "    - Check if there is any existing correlation"
      ]
    },
    {
      "cell_type": "code",
      "metadata": {
        "id": "VEHxAq8Zqcgo",
        "colab": {
          "base_uri": "https://localhost:8080/",
          "height": 145,
          "referenced_widgets": [
            "6e1c2bbece394911beda3677e78fe5cf",
            "9c7efd418c6f4916ae3af06b779497c3",
            "19c1d7a2b1504d2bb15546c007ad654e",
            "920eefacdc4f4c25bc1721f42643d206",
            "28c7976eafdc4532be6c0c2f359a445c",
            "191e91e6b728411ba662cc124578816d",
            "27923475935143a2b39a1094d7027195",
            "29ddf0dc0c334cf1a99eea0798366047",
            "56d852ad47694605b601ad584677b937",
            "4ef0d02493ef4ef3aba91cd64589278f",
            "db38d2fd77984aad92959c724381df19",
            "bec8a105c8fc45fb829709cd869a36fa",
            "9ccb1a4588924b6cb0070ba643fe384e",
            "d84a1d7fb16e4439ab69053f22e72ca3",
            "8af29e1ca32741e2bf3c631b08023cc9",
            "0c8a874ef5014733a02ff21a52558aa3",
            "15071d79e8b1418b97ab8eb436585ba7",
            "ee05ce36e682430eae81e74df065986b",
            "ad6a86fc91264cf893e0cb3de35fc31f",
            "5ff9b5df897f412f86cc3542443a13dc",
            "a8d827025e3f4e5ea2a2e8a0413cf2e3",
            "c538efc9bdb24555a3f408f794110727",
            "e589bf6a892947489996c4dc98996cd6",
            "b6e2fa1e64a54c24bd5e94d6bb6e2a38",
            "f746ad187d4344b1bb003784357a010c",
            "4d1d0fe5476947b8ae4a18cae3a4054d",
            "c920a1763767424195602cf32c62eb54",
            "c585f118988a4a2da06205002ae4625e",
            "62912bc2661240aa931fa6a08fcb9e81",
            "4ca25b87788e4f36a17faae5afe2f922",
            "6d531303ffdc4ef6b1dec6032f1e9cac",
            "d9fd542da42b462d82c3a070c918858c",
            "b553da7cec064621af1705d4aaeeee2e",
            "6fd5f2139eb94288a56e3cf1f75dedbb",
            "14e4c26b5676424e9d350bf30fbd9c11",
            "a19af94c304f4b6d9195034a329208c6",
            "6cbf478a1c0a46d29db7a946eca142df",
            "6b31c4a98d2c452b9625596b1b604ab6",
            "dd9ba04c65c445a6bd6e95d6f621eeb3",
            "299a31e7024441dc957f16f329ce74f5",
            "39fa3fe43416460bb647aef990eae8d3",
            "f1262210118749bebd2347e8f4d4d4d4",
            "d372805d9b3d41d78a51355aec6c78f5",
            "c12d5c6c449f4d068ba353970beb5b1b"
          ]
        },
        "outputId": "6eb7cba3-dfdc-41d2-ddcd-9b79f803b035"
      },
      "source": [
        "profile = ProfileReport(df=df_cars)\n",
        "profile.to_file(output_file='Pre-Profiling_Report_Cars.html')"
      ],
      "execution_count": 11,
      "outputs": [
        {
          "output_type": "display_data",
          "data": {
            "application/vnd.jupyter.widget-view+json": {
              "model_id": "6e1c2bbece394911beda3677e78fe5cf",
              "version_minor": 0,
              "version_major": 2
            },
            "text/plain": [
              "Summarize dataset:   0%|          | 0/5 [00:00<?, ?it/s]"
            ]
          },
          "metadata": {}
        },
        {
          "output_type": "display_data",
          "data": {
            "application/vnd.jupyter.widget-view+json": {
              "model_id": "bec8a105c8fc45fb829709cd869a36fa",
              "version_minor": 0,
              "version_major": 2
            },
            "text/plain": [
              "Generate report structure:   0%|          | 0/1 [00:00<?, ?it/s]"
            ]
          },
          "metadata": {}
        },
        {
          "output_type": "display_data",
          "data": {
            "application/vnd.jupyter.widget-view+json": {
              "model_id": "e589bf6a892947489996c4dc98996cd6",
              "version_minor": 0,
              "version_major": 2
            },
            "text/plain": [
              "Render HTML:   0%|          | 0/1 [00:00<?, ?it/s]"
            ]
          },
          "metadata": {}
        },
        {
          "output_type": "display_data",
          "data": {
            "application/vnd.jupyter.widget-view+json": {
              "model_id": "6fd5f2139eb94288a56e3cf1f75dedbb",
              "version_minor": 0,
              "version_major": 2
            },
            "text/plain": [
              "Export report to file:   0%|          | 0/1 [00:00<?, ?it/s]"
            ]
          },
          "metadata": {}
        }
      ]
    },
    {
      "cell_type": "markdown",
      "metadata": {
        "id": "5310K9IIgC0M"
      },
      "source": [
        "**Pre-profiling Observations:**\n",
        "\n",
        "- 87 Duplicate rows found which is 0.9%\n",
        "- Price has 267 zero values which is 2.8%\n",
        "- Mileage has 348 zero values which is 3.6%\n",
        "- Price and Purchase Year looks positively correlated\n",
        "- Price and Mileage looks negatively correlated\n",
        "- Mileage and Purchase Year also looks negatively correlated"
      ]
    },
    {
      "cell_type": "markdown",
      "metadata": {
        "id": "YMvtK0X-qoe6"
      },
      "source": [
        "---\n",
        "<a name = Section6></a>\n",
        "# **6. Data Pre-Processing**\n",
        "---\n",
        "\n",
        "### **6.1 Dropping Duplicate Rows**"
      ]
    },
    {
      "cell_type": "code",
      "metadata": {
        "id": "FxzbSzWDqytZ"
      },
      "source": [
        "df_cars.drop_duplicates(inplace=True)"
      ],
      "execution_count": 12,
      "outputs": []
    },
    {
      "cell_type": "code",
      "metadata": {
        "colab": {
          "base_uri": "https://localhost:8080/"
        },
        "id": "jceCtp0OUKL9",
        "outputId": "88fa5783-d956-4f7e-d8b0-5bf68179ca08"
      },
      "source": [
        "df_cars.shape"
      ],
      "execution_count": 13,
      "outputs": [
        {
          "output_type": "execute_result",
          "data": {
            "text/plain": [
              "(9463, 10)"
            ]
          },
          "metadata": {},
          "execution_count": 13
        }
      ]
    },
    {
      "cell_type": "markdown",
      "metadata": {
        "id": "3uLeX5DgntJK"
      },
      "source": [
        "### **6.2 Fixing Zero & Missing Values**"
      ]
    },
    {
      "cell_type": "markdown",
      "metadata": {
        "id": "P0RvtTmdoHHe"
      },
      "source": [
        "**6.2.1 Zero Values in Price**"
      ]
    },
    {
      "cell_type": "code",
      "metadata": {
        "id": "_rtp1TnmUzdX",
        "colab": {
          "base_uri": "https://localhost:8080/"
        },
        "outputId": "2c1aea00-9b82-48e8-bf87-40ffc893c20c"
      },
      "source": [
        "df_cars.price=df_cars.price.replace(0,np.nan)\n",
        "df_cars.price.isnull().sum()"
      ],
      "execution_count": 14,
      "outputs": [
        {
          "output_type": "execute_result",
          "data": {
            "text/plain": [
              "240"
            ]
          },
          "metadata": {},
          "execution_count": 14
        }
      ]
    },
    {
      "cell_type": "code",
      "metadata": {
        "id": "9ihzCqY3VSea",
        "colab": {
          "base_uri": "https://localhost:8080/"
        },
        "outputId": "99d2e8e4-9728-4598-b05f-8891fcb38511"
      },
      "source": [
        "df_cars['price']=df_cars['price'].fillna(df_cars.groupby(['car','model','body','engType','engV','year'])['price'].transform('median'))\n",
        "df_cars['price']=df_cars['price'].fillna(df_cars.groupby(['car','model','body','engType','engV'])['price'].transform('median'))\n",
        "df_cars['price']=df_cars['price'].fillna(df_cars.groupby(['car','model','body','engType'])['price'].transform('median'))\n",
        "df_cars['price']=df_cars['price'].fillna(df_cars.groupby(['car','model','body'],)['price'].transform('median'))\n",
        "df_cars['price']=df_cars['price'].fillna(df_cars.groupby(['car','model'],)['price'].transform('median'))\n",
        "df_cars['price']=df_cars['price'].fillna(df_cars.groupby(['car'],)['price'].transform('median'))\n",
        "df_cars['price']=df_cars['price'].fillna(df_cars.price.median())\n",
        "df_cars.price.isnull().sum()"
      ],
      "execution_count": 15,
      "outputs": [
        {
          "output_type": "execute_result",
          "data": {
            "text/plain": [
              "0"
            ]
          },
          "metadata": {},
          "execution_count": 15
        }
      ]
    },
    {
      "cell_type": "markdown",
      "metadata": {
        "id": "qoJCwvjHodXT"
      },
      "source": [
        "**6.2.2 Zero Values in Mileage**"
      ]
    },
    {
      "cell_type": "code",
      "metadata": {
        "id": "1J0rNhyiaEvV",
        "colab": {
          "base_uri": "https://localhost:8080/"
        },
        "outputId": "a1d21b4d-c339-43ad-ba8d-f6dc7536c023"
      },
      "source": [
        "df_cars.mileage=df_cars.mileage.replace(0,np.nan)\n",
        "df_cars.mileage.isnull().sum()"
      ],
      "execution_count": 16,
      "outputs": [
        {
          "output_type": "execute_result",
          "data": {
            "text/plain": [
              "310"
            ]
          },
          "metadata": {},
          "execution_count": 16
        }
      ]
    },
    {
      "cell_type": "code",
      "metadata": {
        "id": "Z1dFhd8iaQQ7",
        "colab": {
          "base_uri": "https://localhost:8080/"
        },
        "outputId": "e13f8b0e-86fd-4dc8-b836-b5ea66f35b37"
      },
      "source": [
        "df_cars['mileage']=df_cars['mileage'].fillna(df_cars.groupby(['car','model','body','engType','engV','year'])['mileage'].transform('median'))\n",
        "df_cars['mileage']=df_cars['mileage'].fillna(df_cars.groupby(['car','model','body','engType','engV'])['mileage'].transform('median'))\n",
        "df_cars['mileage']=df_cars['mileage'].fillna(df_cars.groupby(['car','model','body','engType'])['mileage'].transform('median'))\n",
        "df_cars['mileage']=df_cars['mileage'].fillna(df_cars.groupby(['car','model','body'])['mileage'].transform('median'))\n",
        "df_cars['mileage']=df_cars['mileage'].fillna(df_cars.groupby(['car','model'])['mileage'].transform('median'))\n",
        "df_cars['mileage']=df_cars['mileage'].fillna(df_cars.groupby(['car'])['mileage'].transform('median'))\n",
        "df_cars.mileage.isnull().sum()"
      ],
      "execution_count": 17,
      "outputs": [
        {
          "output_type": "execute_result",
          "data": {
            "text/plain": [
              "0"
            ]
          },
          "metadata": {},
          "execution_count": 17
        }
      ]
    },
    {
      "cell_type": "markdown",
      "metadata": {
        "id": "DRHHTjdto4_D"
      },
      "source": [
        "**6.2.3 Missing Values in Drive**"
      ]
    },
    {
      "cell_type": "code",
      "metadata": {
        "colab": {
          "base_uri": "https://localhost:8080/"
        },
        "id": "-FhH-Y3lk1ef",
        "outputId": "5b507631-52b3-49a2-ac72-c4b54616e5d2"
      },
      "source": [
        "df_cars.drive.isnull().sum()"
      ],
      "execution_count": 18,
      "outputs": [
        {
          "output_type": "execute_result",
          "data": {
            "text/plain": [
              "510"
            ]
          },
          "metadata": {},
          "execution_count": 18
        }
      ]
    },
    {
      "cell_type": "code",
      "metadata": {
        "id": "Jsqxq-VZoGOx",
        "colab": {
          "base_uri": "https://localhost:8080/"
        },
        "outputId": "7bc7afe0-aa28-499c-9c02-c372b7e712d3"
      },
      "source": [
        "df_cars['drive']=df_cars['drive'].fillna(df_cars.groupby(['car','model','year'])['drive'].transform(lambda x:next(iter(x.mode()), np.nan)))\n",
        "df_cars['drive']=df_cars['drive'].fillna(df_cars.groupby(['car','model'])['drive'].transform(lambda x:next(iter(x.mode()), np.nan)))\n",
        "df_cars['drive']=df_cars['drive'].fillna(df_cars.groupby(['car'])['drive'].transform(lambda x:next(iter(x.mode()), np.nan)))\n",
        "df_cars['drive'] = df_cars['drive'].fillna(df_cars['drive'].mode()[0])\n",
        "df_cars.drive.isnull().sum()"
      ],
      "execution_count": 19,
      "outputs": [
        {
          "output_type": "execute_result",
          "data": {
            "text/plain": [
              "0"
            ]
          },
          "metadata": {},
          "execution_count": 19
        }
      ]
    },
    {
      "cell_type": "markdown",
      "metadata": {
        "id": "Pc-8gBNlrW9c"
      },
      "source": [
        "**6.2.4 Missing Values in engV**"
      ]
    },
    {
      "cell_type": "code",
      "metadata": {
        "id": "KJ_0Z-lcrd4Y",
        "colab": {
          "base_uri": "https://localhost:8080/"
        },
        "outputId": "947ccf60-1043-41cd-cd7e-eca79aa4cb47"
      },
      "source": [
        "df_cars['engV'].isnull().sum()"
      ],
      "execution_count": 20,
      "outputs": [
        {
          "output_type": "execute_result",
          "data": {
            "text/plain": [
              "434"
            ]
          },
          "metadata": {},
          "execution_count": 20
        }
      ]
    },
    {
      "cell_type": "code",
      "metadata": {
        "id": "Jh_U2MRBhgqs",
        "colab": {
          "base_uri": "https://localhost:8080/"
        },
        "outputId": "70aaa8a0-35c0-4273-fc7d-98aa97bf7ad7"
      },
      "source": [
        "df_cars['engV'] = df_cars['engV'].fillna(df_cars['engV'].mode()[0])\n",
        "df_cars['engV'].isnull().sum()"
      ],
      "execution_count": 21,
      "outputs": [
        {
          "output_type": "execute_result",
          "data": {
            "text/plain": [
              "0"
            ]
          },
          "metadata": {},
          "execution_count": 21
        }
      ]
    },
    {
      "cell_type": "markdown",
      "metadata": {
        "id": "OOX5UPjXriK2"
      },
      "source": [
        "### **6.3 Adding Car Categories Column**"
      ]
    },
    {
      "cell_type": "code",
      "metadata": {
        "colab": {
          "base_uri": "https://localhost:8080/"
        },
        "id": "J2_rYBupOtEC",
        "outputId": "ab8fb4f0-aebf-49e2-f73f-9723ff901fad"
      },
      "source": [
        "df_cars['category']=\"Executive\"\n",
        "pd.options.mode.chained_assignment = None\n",
        "df_cars['category'][df_cars['price']>30000]=\"Premium\"\n",
        "df_cars['category'][df_cars['price']>50000]=\"Luxury\"\n",
        "pd.options.mode.chained_assignment = 'warn'\n",
        "df_cars.category.value_counts()"
      ],
      "execution_count": 22,
      "outputs": [
        {
          "output_type": "execute_result",
          "data": {
            "text/plain": [
              "Executive    8380\n",
              "Premium       545\n",
              "Luxury        538\n",
              "Name: category, dtype: int64"
            ]
          },
          "metadata": {},
          "execution_count": 22
        }
      ]
    },
    {
      "cell_type": "markdown",
      "metadata": {
        "id": "TPVxGM6bqWPh"
      },
      "source": [
        "### **6.4 Removing outliers**"
      ]
    },
    {
      "cell_type": "code",
      "metadata": {
        "colab": {
          "base_uri": "https://localhost:8080/",
          "height": 592
        },
        "id": "VAj3zrtWn-Q9",
        "outputId": "6de768be-a339-466a-b3df-22d21f73c990"
      },
      "source": [
        "plt.figure(figsize=(15, 10))\n",
        "plt.subplot(1,3,1)\n",
        "df_cars.price.plot(kind='box', patch_artist=True, color=\"navy\", label=\"Price\")\n",
        "plt.subplot(1,3,2)\n",
        "df_cars.mileage.plot(kind='box', patch_artist=True, color=\"mediumseagreen\", label=\"Mileage\")\n",
        "plt.subplot(1,3,3)\n",
        "df_cars.engV.plot(kind='box', patch_artist=True, color=\"orchid\", label=\"Engine Version\")\n",
        "\n",
        "plt.show()"
      ],
      "execution_count": 23,
      "outputs": [
        {
          "output_type": "display_data",
          "data": {
            "image/png": "[encoded data removed]",
            "text/plain": [
              "<Figure size 1080x720 with 3 Axes>"
            ]
          },
          "metadata": {
            "needs_background": "light"
          }
        }
      ]
    },
    {
      "cell_type": "code",
      "metadata": {
        "colab": {
          "base_uri": "https://localhost:8080/"
        },
        "id": "TkEwDjzLodzq",
        "outputId": "ac77aea4-33ff-4363-fca5-fa1ae725a2fd"
      },
      "source": [
        "print(df_cars.price[df_cars.price>200000].count())\n",
        "print(df_cars.mileage[df_cars.mileage>400].count())\n",
        "print(df_cars.engV[df_cars.engV>5].count())"
      ],
      "execution_count": 24,
      "outputs": [
        {
          "output_type": "stream",
          "name": "stdout",
          "text": [
            "19\n",
            "105\n",
            "234\n"
          ]
        }
      ]
    },
    {
      "cell_type": "code",
      "metadata": {
        "colab": {
          "base_uri": "https://localhost:8080/"
        },
        "id": "IrNAf3-qrKz4",
        "outputId": "7290291c-4304-489b-fe8d-f4ee3612583e"
      },
      "source": [
        "df_cars_clean=df_cars[((df_cars.price<=200000) & (df_cars.mileage<=400)) & (df_cars.engV<=5)].copy(deep=True)\n",
        "print(df_cars_clean.shape)"
      ],
      "execution_count": 25,
      "outputs": [
        {
          "output_type": "stream",
          "name": "stdout",
          "text": [
            "(9124, 11)\n"
          ]
        }
      ]
    },
    {
      "cell_type": "code",
      "metadata": {
        "colab": {
          "base_uri": "https://localhost:8080/",
          "height": 592
        },
        "id": "COFs-l5Ex6jU",
        "outputId": "38e8403a-5763-4598-c31b-7a217e9b80c7"
      },
      "source": [
        "plt.figure(figsize=(15, 10))\n",
        "plt.subplot(1,3,1)\n",
        "df_cars_clean.price.plot(kind='box', patch_artist=True, color=\"navy\", label=\"Price\")\n",
        "plt.subplot(1,3,2)\n",
        "df_cars_clean.mileage.plot(kind='box', patch_artist=True, color=\"mediumseagreen\", label=\"Mileage\")\n",
        "plt.subplot(1,3,3)\n",
        "df_cars_clean.engV.plot(kind='box', patch_artist=True, color=\"orchid\", label=\"Engine Version\")\n",
        "plt.show()"
      ],
      "execution_count": 26,
      "outputs": [
        {
          "output_type": "display_data",
          "data": {
            "image/png": "[encoded data removed]",
            "text/plain": [
              "<Figure size 1080x720 with 3 Axes>"
            ]
          },
          "metadata": {
            "needs_background": "light"
          }
        }
      ]
    },
    {
      "cell_type": "code",
      "metadata": {
        "colab": {
          "base_uri": "https://localhost:8080/",
          "height": 334
        },
        "id": "3jbNW0tq8GbM",
        "outputId": "e9ebcd94-79ed-46b9-a22e-c6dbd03c85fe"
      },
      "source": [
        "plt.figure(figsize=(10, 5))\n",
        "df_cars_clean.year.plot(kind=\"hist\",bins=20, color='gold')\n",
        "plt.xticks(np.arange(1950, 2017, step=5))\n",
        "plt.xlabel('Purchase Year')\n",
        "plt.show()"
      ],
      "execution_count": 27,
      "outputs": [
        {
          "output_type": "display_data",
          "data": {
            "image/png": "[encoded data removed]",
            "text/plain": [
              "<Figure size 720x360 with 1 Axes>"
            ]
          },
          "metadata": {
            "needs_background": "light"
          }
        }
      ]
    },
    {
      "cell_type": "code",
      "metadata": {
        "colab": {
          "base_uri": "https://localhost:8080/"
        },
        "id": "E_oTooAm7OAN",
        "outputId": "28c2400b-2c77-48bf-83a1-981c71dfb34f"
      },
      "source": [
        "df_cars_clean=df_cars_clean[df_cars_clean.year>1995]\n",
        "df_cars_clean.shape"
      ],
      "execution_count": 28,
      "outputs": [
        {
          "output_type": "execute_result",
          "data": {
            "text/plain": [
              "(8443, 11)"
            ]
          },
          "metadata": {},
          "execution_count": 28
        }
      ]
    },
    {
      "cell_type": "markdown",
      "metadata": {
        "id": "ucyhgDIKm-F2"
      },
      "source": [
        "**Pre-processing Observations:**\n",
        "\n",
        "- Pre-profiling showed 87 Duplicate rows however 113 duplicate rows dropped - seems to be some issue with the profiling report\n",
        "- Zero values in Price replaced by median of price with repect to the brand, model, body etc\n",
        "- Similar to the Price, zero value in mileage replaced with median\n",
        "- engV & Drive replaced by mode value\n",
        "- Dropped 339 rows of outliers from Price, Mileage & engV\n",
        "- As per the data distribution by purchasing year we can focus on cars with purchase year after 1995, hence we dropped some more rows"
      ]
    },
    {
      "cell_type": "markdown",
      "metadata": {
        "id": "amsQwri2q1_J"
      },
      "source": [
        "---\n",
        "<a name = Section7></a>\n",
        "# **7. Data Post-Profiling**\n",
        "---\n",
        "After cleaning the data, we'll again re-run the profiling report to see if it all issues are fixed and are there any new observations"
      ]
    },
    {
      "cell_type": "code",
      "metadata": {
        "id": "87U7K8sWq1y5",
        "colab": {
          "base_uri": "https://localhost:8080/",
          "height": 145,
          "referenced_widgets": [
            "9ed2bbc3c3b7402eb837068ac6a4b24a",
            "fbbd19103aea41cb800699f95a4a68ef",
            "d54ad91303174836b4235fc48b8373fd",
            "4b298be90a0b4dd1a0a0319a598a5428",
            "4c757499eef64ca5b5338330240f565c",
            "3b8e995e642e4776a53b77980e38c117",
            "290eb28807234244bf75f5e1a269212e",
            "ac40c53ee4b64a2487d1c0310af949a0",
            "d50f29e952e046d1860cdb3b60438c4c",
            "645b528a8a0b4f87973b635450f7966e",
            "bc7dbdab4bae4beb8c62edee881b5e3a",
            "ffe941ca6ff848a896e3fa1a309ebee6",
            "c46134d5ad8640d3ba15588f8d5f69a1",
            "910e160535634c59ade2f27ea62b9374",
            "65d4149fa2094e8daba25d25972ff262",
            "8eb526fc13f848c6a5fd2fdeecc0d06b",
            "0aa1deffdd3a477e88d33c04b9c6eebd",
            "ecc87f0b424a4221a4be657483bc9822",
            "bea036690b264962b4d0c2bce3cc2b17",
            "af70807a065b45af8382f0862979145e",
            "686d0dd790b64afc9155d67567933beb",
            "4d3bbd95135f4856b356c583cfb6d084",
            "bde21850260748edbc683ea469da46e4",
            "fdd20e68474e45d298f72a2b9d902e21",
            "e1b54f0822ec442190c6e2f270fe6591",
            "26d68beebfdf4e5d810f8d75b6d4c9a5",
            "f73b044028bf403a90e37469bd517006",
            "7d5970acf3f7402dbc1798bc853c9049",
            "4ea68f1508bc4c03897c8c623b2afd1c",
            "a9af2349741d47f1b74ed75cee751938",
            "093c8db9018e4723b75ae6768e899c70",
            "bec8e5a598a843e7b85ad084e46b6cc7",
            "540c2e03d6bd49368721d2568eae36e7",
            "f0b3eac42eba4174af94e91141c7c016",
            "5a438ccf27dc4d40a518eb3d3f320a35",
            "d40b2ad37e94471892c14fb6160bc36e",
            "caeb762a3861452f94166156ef70e627",
            "da206276413d4aebb6621a5b9369c042",
            "6ad6e25816f6494295271ed4c92d62f9",
            "9f1f29e7153a44c293f63ca99ed573f6",
            "f0a5417d643240a2ad062acc78c0404a",
            "fd663cf12a984027ad2464b773074261",
            "c442bf0e862342ce81abb34bb34c42fb",
            "8d6ae4bf05fa4e48a89babe642e97c12"
          ]
        },
        "outputId": "9f1c50a2-9212-4e71-f1a6-fc08a399d276"
      },
      "source": [
        "profile = ProfileReport(df=df_cars_clean)\n",
        "profile.to_file(output_file='Post-Profiling_Report_Cars.html')"
      ],
      "execution_count": 29,
      "outputs": [
        {
          "output_type": "display_data",
          "data": {
            "application/vnd.jupyter.widget-view+json": {
              "model_id": "9ed2bbc3c3b7402eb837068ac6a4b24a",
              "version_minor": 0,
              "version_major": 2
            },
            "text/plain": [
              "Summarize dataset:   0%|          | 0/5 [00:00<?, ?it/s]"
            ]
          },
          "metadata": {}
        },
        {
          "output_type": "display_data",
          "data": {
            "application/vnd.jupyter.widget-view+json": {
              "model_id": "ffe941ca6ff848a896e3fa1a309ebee6",
              "version_minor": 0,
              "version_major": 2
            },
            "text/plain": [
              "Generate report structure:   0%|          | 0/1 [00:00<?, ?it/s]"
            ]
          },
          "metadata": {}
        },
        {
          "output_type": "display_data",
          "data": {
            "application/vnd.jupyter.widget-view+json": {
              "model_id": "bde21850260748edbc683ea469da46e4",
              "version_minor": 0,
              "version_major": 2
            },
            "text/plain": [
              "Render HTML:   0%|          | 0/1 [00:00<?, ?it/s]"
            ]
          },
          "metadata": {}
        },
        {
          "output_type": "display_data",
          "data": {
            "application/vnd.jupyter.widget-view+json": {
              "model_id": "f0b3eac42eba4174af94e91141c7c016",
              "version_minor": 0,
              "version_major": 2
            },
            "text/plain": [
              "Export report to file:   0%|          | 0/1 [00:00<?, ?it/s]"
            ]
          },
          "metadata": {}
        }
      ]
    },
    {
      "cell_type": "markdown",
      "metadata": {
        "id": "qogjKJM5Bu_N"
      },
      "source": [
        "**Observations:**\n",
        "\n",
        "- No duplicate rows\n",
        "- No missing values\n",
        "- No zero values\n",
        "- There are still outliers in the price and mileage but we've removed the extreme outliers\n",
        "- Data distribution looks much better"
      ]
    },
    {
      "cell_type": "markdown",
      "metadata": {
        "id": "taDvvLa9q-5p"
      },
      "source": [
        "---\n",
        "<a name = Section8></a>\n",
        "# **8. Exploratory Data Analysis**\n",
        "---"
      ]
    },
    {
      "cell_type": "code",
      "metadata": {
        "colab": {
          "base_uri": "https://localhost:8080/",
          "height": 173
        },
        "id": "1gzDxXCz7EUE",
        "outputId": "1779db56-d5b7-4871-f3fb-64d4125e4f66"
      },
      "source": [
        "df_cars_clean.corr()"
      ],
      "execution_count": 30,
      "outputs": [
        {
          "output_type": "execute_result",
          "data": {
            "text/html": [
              "<div>\n",
              "<style scoped>\n",
              "    .dataframe tbody tr th:only-of-type {\n",
              "        vertical-align: middle;\n",
              "    }\n",
              "\n",
              "    .dataframe tbody tr th {\n",
              "        vertical-align: top;\n",
              "    }\n",
              "\n",
              "    .dataframe thead th {\n",
              "        text-align: right;\n",
              "    }\n",
              "</style>\n",
              "<table border=\"1\" class=\"dataframe\">\n",
              "  <thead>\n",
              "    <tr style=\"text-align: right;\">\n",
              "      <th></th>\n",
              "      <th>price</th>\n",
              "      <th>mileage</th>\n",
              "      <th>engV</th>\n",
              "      <th>year</th>\n",
              "    </tr>\n",
              "  </thead>\n",
              "  <tbody>\n",
              "    <tr>\n",
              "      <th>price</th>\n",
              "      <td>1.000000</td>\n",
              "      <td>-0.384403</td>\n",
              "      <td>0.476745</td>\n",
              "      <td>0.489601</td>\n",
              "    </tr>\n",
              "    <tr>\n",
              "      <th>mileage</th>\n",
              "      <td>-0.384403</td>\n",
              "      <td>1.000000</td>\n",
              "      <td>0.071530</td>\n",
              "      <td>-0.707738</td>\n",
              "    </tr>\n",
              "    <tr>\n",
              "      <th>engV</th>\n",
              "      <td>0.476745</td>\n",
              "      <td>0.071530</td>\n",
              "      <td>1.000000</td>\n",
              "      <td>-0.031451</td>\n",
              "    </tr>\n",
              "    <tr>\n",
              "      <th>year</th>\n",
              "      <td>0.489601</td>\n",
              "      <td>-0.707738</td>\n",
              "      <td>-0.031451</td>\n",
              "      <td>1.000000</td>\n",
              "    </tr>\n",
              "  </tbody>\n",
              "</table>\n",
              "</div>"
            ],
            "text/plain": [
              "            price   mileage      engV      year\n",
              "price    1.000000 -0.384403  0.476745  0.489601\n",
              "mileage -0.384403  1.000000  0.071530 -0.707738\n",
              "engV     0.476745  0.071530  1.000000 -0.031451\n",
              "year     0.489601 -0.707738 -0.031451  1.000000"
            ]
          },
          "metadata": {},
          "execution_count": 30
        }
      ]
    },
    {
      "cell_type": "code",
      "metadata": {
        "colab": {
          "base_uri": "https://localhost:8080/",
          "height": 350
        },
        "id": "dJq2hbKl9kdK",
        "outputId": "d7decf4c-69af-4de9-a429-d6078be71c20"
      },
      "source": [
        "plt.figure(figsize=(10, 5))\n",
        "plt.xlabel('Purchase Year')\n",
        "plt.ylabel('Price')\n",
        "plt.xticks(np.arange(1996, 2017, step=2))\n",
        "plt.title('Price vs Purchase Year')\n",
        "plt.scatter(df_cars_clean.year, df_cars_clean.price, color = 'grey')\n",
        "plt.plot(df_cars_clean.price.groupby(df_cars_clean.year).agg('mean'), linestyle=\"-\", linewidth=3, color='crimson')\n",
        "plt.plot(df_cars_clean.price.groupby(df_cars_clean.year).agg('median'), linestyle=\"-\", linewidth=3, color='springgreen')\n",
        "plt.legend([\"Mean\", \"Median\"],loc='upper left')\n",
        "plt.show()"
      ],
      "execution_count": 31,
      "outputs": [
        {
          "output_type": "display_data",
          "data": {
            "image/png": "[encoded data removed]",
            "text/plain": [
              "<Figure size 720x360 with 1 Axes>"
            ]
          },
          "metadata": {
            "needs_background": "light"
          }
        }
      ]
    },
    {
      "cell_type": "markdown",
      "metadata": {
        "id": "ylA81bRD8ZqV"
      },
      "source": [
        "- Car prices decreases over time"
      ]
    },
    {
      "cell_type": "code",
      "metadata": {
        "colab": {
          "base_uri": "https://localhost:8080/",
          "height": 350
        },
        "id": "OXZ9rMkQDFdF",
        "outputId": "9267a7e6-0116-4238-d1f3-6e6fcdeebfca"
      },
      "source": [
        "plt.figure(figsize=(10, 5))\n",
        "plt.xlabel('Purchasing Year')\n",
        "plt.ylabel('# Cars')\n",
        "plt.title('# Cars vs Purchase Year')\n",
        "plt.bar(df_cars_clean.year.value_counts().index, df_cars_clean.year.value_counts().values, color = 'purple')\n",
        "plt.xticks(np.arange(1996, 2017, step=2))\n",
        "plt.show()"
      ],
      "execution_count": 32,
      "outputs": [
        {
          "output_type": "display_data",
          "data": {
            "image/png": "[encoded data removed]",
            "text/plain": [
              "<Figure size 720x360 with 1 Axes>"
            ]
          },
          "metadata": {
            "needs_background": "light"
          }
        }
      ]
    },
    {
      "cell_type": "markdown",
      "metadata": {
        "id": "DRMUJJb5AadX"
      },
      "source": [
        "- 2007 & 2008 cars are more in stock"
      ]
    },
    {
      "cell_type": "code",
      "metadata": {
        "colab": {
          "base_uri": "https://localhost:8080/",
          "height": 427
        },
        "id": "nxiiaRJcMqcJ",
        "outputId": "06df74fe-02c7-48fe-d15b-c20f0e5dc223"
      },
      "source": [
        "plt.figure(figsize=(7, 7))\n",
        "df_cars_clean.car.value_counts()[:5].plot(kind='pie',label=\"\", wedgeprops={\"edgecolor\":\"0\",'linewidth': 1,'linestyle': 'dashed', 'antialiased': True}, counterclock=False, startangle=90,autopct='%1.0f%%')\n",
        "plt.title('Top 5 Brands Share')\n",
        "plt.show()"
      ],
      "execution_count": 33,
      "outputs": [
        {
          "output_type": "display_data",
          "data": {
            "image/png": "[encoded data removed]",
            "text/plain": [
              "<Figure size 504x504 with 1 Axes>"
            ]
          },
          "metadata": {}
        }
      ]
    },
    {
      "cell_type": "markdown",
      "metadata": {
        "id": "L4FXiPxLBH_0"
      },
      "source": [
        "- Here we can seee the top 5 car brands available with us\n",
        "- Volkswagen followed by Mercedes-Benz are the top two brands for sale"
      ]
    },
    {
      "cell_type": "code",
      "metadata": {
        "colab": {
          "base_uri": "https://localhost:8080/",
          "height": 427
        },
        "id": "BQOon59wQxcN",
        "outputId": "c3456af5-3582-45a2-fe26-095fec0561ad"
      },
      "source": [
        "plt.figure(figsize=(7, 7))\n",
        "df_cars_clean.groupby('category')['category'].agg('count').plot(kind='pie', label=\"\", wedgeprops={\"edgecolor\":\"0\",'linewidth': 1,'linestyle': 'dashed', 'antialiased': True}, counterclock=False,autopct='%1.0f%%')\n",
        "plt.title('Share by Category')\n",
        "plt.show()"
      ],
      "execution_count": 35,
      "outputs": [
        {
          "output_type": "display_data",
          "data": {
            "image/png": "[encoded data removed]",
            "text/plain": [
              "<Figure size 504x504 with 1 Axes>"
            ]
          },
          "metadata": {}
        }
      ]
    },
    {
      "cell_type": "markdown",
      "metadata": {
        "id": "apDu9r22RJJu"
      },
      "source": [
        "- This pie chart is showing 89% of cars falls under the category 'Executive' i.e. priced up to 30000 dollars \n",
        "- Approx 6% are premium cars which are priced between 30,000 & 50,000 dollars\n",
        "- Approx 5% are luxury cars are on sale which are priced higher than 50,000 dollar"
      ]
    },
    {
      "cell_type": "code",
      "metadata": {
        "colab": {
          "base_uri": "https://localhost:8080/",
          "height": 372
        },
        "id": "PwyOaEy_i3CK",
        "outputId": "af401db8-8102-4ae2-97df-014b0a9a32b6"
      },
      "source": [
        "plt.rcParams[\"figure.figsize\"] = (10,5)\n",
        "df_cars_clean.groupby(['body','category']).size().unstack(level=-1).plot(kind='bar',stacked=True, color=[\"darkcyan\", \"gold\", \"indianred\"])\n",
        "plt.legend(loc='upper left')\n",
        "plt.show()"
      ],
      "execution_count": 38,
      "outputs": [
        {
          "output_type": "display_data",
          "data": {
            "image/png": "[encoded data removed]",
            "text/plain": [
              "<Figure size 720x360 with 1 Axes>"
            ]
          },
          "metadata": {
            "needs_background": "light"
          }
        }
      ]
    },
    {
      "cell_type": "markdown",
      "metadata": {
        "id": "c0W5mvVEyGJD"
      },
      "source": [
        "- - Sedan is the most preferred in Executive class followed by crossover in Premium & Luxury class"
      ]
    },
    {
      "cell_type": "code",
      "metadata": {
        "colab": {
          "base_uri": "https://localhost:8080/",
          "height": 497
        },
        "id": "xKF6igzB5gG8",
        "outputId": "6124db6a-9f9f-42f2-8cfe-239e25cfb103"
      },
      "source": [
        "plt.figure(figsize=(8, 8))\n",
        "sns.boxplot(x='category', y='mileage',data=df_cars_clean, palette=\"rainbow\")\n",
        "plt.show()"
      ],
      "execution_count": 77,
      "outputs": [
        {
          "output_type": "display_data",
          "data": {
            "image/png": "[encoded data removed]",
            "text/plain": [
              "<Figure size 576x576 with 1 Axes>"
            ]
          },
          "metadata": {
            "needs_background": "light"
          }
        }
      ]
    },
    {
      "cell_type": "markdown",
      "metadata": {
        "id": "uipJCHiuyz07"
      },
      "source": [
        "- Executive cars comes with the highest mileage"
      ]
    },
    {
      "cell_type": "code",
      "metadata": {
        "colab": {
          "base_uri": "https://localhost:8080/",
          "height": 497
        },
        "id": "RxQfXS_HKVh6",
        "outputId": "5900ecaa-b461-4d8b-c1f7-8520e86e2a71"
      },
      "source": [
        "plt.figure(figsize=(8, 8))\n",
        "plt.axes().set_xticks([2,4,6])\n",
        "sns.boxplot(x='engType', y='mileage',data=df_cars_clean, palette=\"Set2\")\n",
        "plt.show()"
      ],
      "execution_count": 72,
      "outputs": [
        {
          "output_type": "display_data",
          "data": {
            "image/png": "[encoded data removed]",
            "text/plain": [
              "<Figure size 576x576 with 1 Axes>"
            ]
          },
          "metadata": {
            "needs_background": "light"
          }
        }
      ]
    },
    {
      "cell_type": "markdown",
      "metadata": {
        "id": "jRM0Wm64zDpS"
      },
      "source": [
        "- Diesel & Gas cars are the most fuel efficient cars"
      ]
    },
    {
      "cell_type": "code",
      "metadata": {
        "colab": {
          "base_uri": "https://localhost:8080/",
          "height": 355
        },
        "id": "-vKzX6zCdaR0",
        "outputId": "0df76da1-4466-4c09-cdb0-9eb97fd9e63a"
      },
      "source": [
        "plt.rcParams[\"figure.figsize\"] = (10,5)\n",
        "df_cars_clean.groupby(['engType','category']).size().unstack(level=-1).plot(kind='bar',stacked=True, color=[\"darkcyan\", \"gold\", \"indianred\"])\n",
        "plt.legend(loc='best')\n",
        "plt.show()"
      ],
      "execution_count": 41,
      "outputs": [
        {
          "output_type": "display_data",
          "data": {
            "image/png": "[encoded data removed]",
            "text/plain": [
              "<Figure size 720x360 with 1 Axes>"
            ]
          },
          "metadata": {
            "needs_background": "light"
          }
        }
      ]
    },
    {
      "cell_type": "markdown",
      "metadata": {
        "id": "k_Tt-Cimi35Q"
      },
      "source": [
        "- Executive cars are available with all engTypes\n",
        "- Luxury & Premimum cars are mostly available in Petrol or Diesel engType\n",
        "- The most listed cars are Petrol followed by Diesel"
      ]
    },
    {
      "cell_type": "code",
      "metadata": {
        "colab": {
          "base_uri": "https://localhost:8080/",
          "height": 497
        },
        "id": "H_w7eQxCNOC3",
        "outputId": "1d513afc-b3d0-4bbc-810c-14d78021574e"
      },
      "source": [
        "plt.figure(figsize=(8, 8))\n",
        "plt.axes().set_xticks([2,4,6])\n",
        "sns.boxplot(x='registration', y='price',data=df_cars_clean)\n",
        "plt.show()"
      ],
      "execution_count": 42,
      "outputs": [
        {
          "output_type": "display_data",
          "data": {
            "image/png": "[encoded data removed]",
            "text/plain": [
              "<Figure size 576x576 with 1 Axes>"
            ]
          },
          "metadata": {
            "needs_background": "light"
          }
        }
      ]
    },
    {
      "cell_type": "markdown",
      "metadata": {
        "id": "9xhjIctuzZDM"
      },
      "source": [
        "- Cars without registration are priced lower"
      ]
    },
    {
      "cell_type": "code",
      "metadata": {
        "colab": {
          "base_uri": "https://localhost:8080/",
          "height": 497
        },
        "id": "b1q6nc8NQT8o",
        "outputId": "054db260-e131-40a7-ae04-fecc135dcc53"
      },
      "source": [
        "plt.figure(figsize=(8, 8))\n",
        "plt.axes().set_xticks([2,4,6])\n",
        "sns.boxplot(x='engType', y='price',data=df_cars_clean)\n",
        "plt.show()"
      ],
      "execution_count": 43,
      "outputs": [
        {
          "output_type": "display_data",
          "data": {
            "image/png": "[encoded data removed]",
            "text/plain": [
              "<Figure size 576x576 with 1 Axes>"
            ]
          },
          "metadata": {
            "needs_background": "light"
          }
        }
      ]
    },
    {
      "cell_type": "markdown",
      "metadata": {
        "id": "KIF1R9tSze_h"
      },
      "source": [
        "- Gas cars are the most economic"
      ]
    },
    {
      "cell_type": "code",
      "metadata": {
        "colab": {
          "base_uri": "https://localhost:8080/",
          "height": 497
        },
        "id": "IW2FGjLJX7rJ",
        "outputId": "7c683fac-0314-417c-a4bc-a31ad8a7cd26"
      },
      "source": [
        "plt.figure(figsize=(8, 8))\n",
        "plt.axes().set_xticks([2,4,6])\n",
        "sns.boxplot(x='drive', y='price',data=df_cars_clean)\n",
        "plt.show()"
      ],
      "execution_count": 44,
      "outputs": [
        {
          "output_type": "display_data",
          "data": {
            "image/png": "[encoded data removed]",
            "text/plain": [
              "<Figure size 576x576 with 1 Axes>"
            ]
          },
          "metadata": {
            "needs_background": "light"
          }
        }
      ]
    },
    {
      "cell_type": "markdown",
      "metadata": {
        "id": "vQ7EQJC0zl3m"
      },
      "source": [
        "- Full drive cars are priced higher than front or rear drive"
      ]
    },
    {
      "cell_type": "code",
      "metadata": {
        "colab": {
          "base_uri": "https://localhost:8080/",
          "height": 347
        },
        "id": "DldzdYDhYHdF",
        "outputId": "b402090a-de5d-4c2e-c2d7-9c959a84632b"
      },
      "source": [
        "plt.rcParams[\"figure.figsize\"] = (10,5)\n",
        "df_cars_clean.groupby(['drive','category']).size().unstack(level=-1).plot(kind='bar',stacked=True, color=[\"darkcyan\", \"gold\", \"indianred\"])\n",
        "plt.legend(loc='best')\n",
        "plt.show()"
      ],
      "execution_count": 45,
      "outputs": [
        {
          "output_type": "display_data",
          "data": {
            "image/png": "[encoded data removed]",
            "text/plain": [
              "<Figure size 720x360 with 1 Axes>"
            ]
          },
          "metadata": {
            "needs_background": "light"
          }
        }
      ]
    },
    {
      "cell_type": "markdown",
      "metadata": {
        "id": "IfEU0Hchz1B7"
      },
      "source": [
        "- Full drive is available in all categories Exectutive, Premium & Luxury"
      ]
    },
    {
      "cell_type": "code",
      "metadata": {
        "colab": {
          "base_uri": "https://localhost:8080/",
          "height": 372
        },
        "id": "m3snKGj3b-nw",
        "outputId": "c428a378-0aea-42d2-df4d-baac54372f63"
      },
      "source": [
        "plt.rcParams[\"figure.figsize\"] = (10,5)\n",
        "df_cars_clean.groupby(['body','drive']).size().unstack(level=-1).plot(kind='bar',stacked=True)\n",
        "plt.legend(loc='best')\n",
        "plt.show()"
      ],
      "execution_count": 54,
      "outputs": [
        {
          "output_type": "display_data",
          "data": {
            "image/png": "[encoded data removed]",
            "text/plain": [
              "<Figure size 720x360 with 1 Axes>"
            ]
          },
          "metadata": {
            "needs_background": "light"
          }
        }
      ]
    },
    {
      "cell_type": "markdown",
      "metadata": {
        "id": "crEFh0Jw0WMg"
      },
      "source": [
        "- Sedan is all time favourite car followed by crossover\n",
        "- Sedan cars are mostly front drive\n",
        "- Crossover cars are mostly full drive"
      ]
    },
    {
      "cell_type": "code",
      "metadata": {
        "colab": {
          "base_uri": "https://localhost:8080/",
          "height": 350
        },
        "id": "bncKYrbr6CKt",
        "outputId": "d024eb6f-b9f2-4c31-c5d3-1d05960a8d75"
      },
      "source": [
        "plt.figure(figsize=(25, 5))\n",
        "plt.subplot(1,3,1)\n",
        "plt.xlabel('Price')\n",
        "plt.ylabel('Mileage')\n",
        "plt.title('Price vs Mileage')\n",
        "plt.scatter(df_cars_clean.price, df_cars_clean.mileage, color = 'khaki')\n",
        "plt.subplot(1,3,2)\n",
        "plt.xlabel('Purchase Year')\n",
        "plt.ylabel('Mileage')\n",
        "plt.title('Purchase Year vs Mileage')\n",
        "plt.scatter(df_cars_clean.year, df_cars_clean.mileage, color = 'forestgreen')\n",
        "plt.xticks(np.arange(1996, 2017, step=2))\n",
        "plt.subplot(1,3,3)\n",
        "plt.xlabel('Price')\n",
        "plt.ylabel('engV')\n",
        "plt.title('Price vs engV')\n",
        "plt.scatter(df_cars_clean.price, df_cars_clean.engV, color = 'steelblue')\n",
        "plt.show()"
      ],
      "execution_count": 46,
      "outputs": [
        {
          "output_type": "display_data",
          "data": {
            "image/png": "[encoded data removed]",
            "text/plain": [
              "<Figure size 1800x360 with 3 Axes>"
            ]
          },
          "metadata": {
            "needs_background": "light"
          }
        }
      ]
    },
    {
      "cell_type": "markdown",
      "metadata": {
        "id": "DYPxdXR49MOy"
      },
      "source": [
        "- 'Mileage' & 'Price' and 'Mileage' & 'Purchase Year' showing negative correlation (corr -0.4 & -0.7 respectively)\n",
        "- engV and Price showing a positive correlation (0.5)\n",
        "- Mileage decreases with increase in prices\n",
        "- Mileage also decreases with increase in purchase year"
      ]
    },
    {
      "cell_type": "code",
      "metadata": {
        "colab": {
          "base_uri": "https://localhost:8080/"
        },
        "id": "9VvGBRrlQRb4",
        "outputId": "d4c39cb2-1545-43dd-e2af-b894084d626f"
      },
      "source": [
        "datacopy = df_cars_clean.copy(deep=True)\n",
        "datacopy.drop(labels=['price', 'mileage', 'engV', 'year'], axis=1, inplace=True)\n",
        "encoder = LabelEncoder()\n",
        "for i in datacopy.columns:\n",
        "  datacopy[i] = encoder.fit_transform(datacopy[i].astype('str'))\n",
        "print(\"Encoding Success\")"
      ],
      "execution_count": 47,
      "outputs": [
        {
          "output_type": "stream",
          "name": "stdout",
          "text": [
            "Encoding Success\n"
          ]
        }
      ]
    },
    {
      "cell_type": "code",
      "metadata": {
        "colab": {
          "base_uri": "https://localhost:8080/",
          "height": 578
        },
        "id": "dai6H3uWRbqZ",
        "outputId": "68f5fd8e-7a75-46de-edfc-6037c93fb6bb"
      },
      "source": [
        "figure = plt.figure(figsize=(10,10))\n",
        "sns.heatmap(data=datacopy.corr(), vmax=1, square=True, annot=False, cmap=\"Purples\")\n",
        "plt.show()"
      ],
      "execution_count": 48,
      "outputs": [
        {
          "output_type": "display_data",
          "data": {
            "image/png": "[encoded data removed]",
            "text/plain": [
              "<Figure size 720x720 with 2 Axes>"
            ]
          },
          "metadata": {
            "needs_background": "light"
          }
        }
      ]
    },
    {
      "cell_type": "code",
      "metadata": {
        "colab": {
          "base_uri": "https://localhost:8080/",
          "height": 266
        },
        "id": "4QPqGbiVSS0M",
        "outputId": "2a90466f-428e-4499-9df6-94a1316f2e93"
      },
      "source": [
        "datacopy.corr()"
      ],
      "execution_count": 49,
      "outputs": [
        {
          "output_type": "execute_result",
          "data": {
            "text/html": [
              "<div>\n",
              "<style scoped>\n",
              "    .dataframe tbody tr th:only-of-type {\n",
              "        vertical-align: middle;\n",
              "    }\n",
              "\n",
              "    .dataframe tbody tr th {\n",
              "        vertical-align: top;\n",
              "    }\n",
              "\n",
              "    .dataframe thead th {\n",
              "        text-align: right;\n",
              "    }\n",
              "</style>\n",
              "<table border=\"1\" class=\"dataframe\">\n",
              "  <thead>\n",
              "    <tr style=\"text-align: right;\">\n",
              "      <th></th>\n",
              "      <th>car</th>\n",
              "      <th>body</th>\n",
              "      <th>engType</th>\n",
              "      <th>registration</th>\n",
              "      <th>model</th>\n",
              "      <th>drive</th>\n",
              "      <th>category</th>\n",
              "    </tr>\n",
              "  </thead>\n",
              "  <tbody>\n",
              "    <tr>\n",
              "      <th>car</th>\n",
              "      <td>1.000000</td>\n",
              "      <td>0.035238</td>\n",
              "      <td>-0.019100</td>\n",
              "      <td>0.106391</td>\n",
              "      <td>0.138138</td>\n",
              "      <td>-0.198291</td>\n",
              "      <td>-0.126228</td>\n",
              "    </tr>\n",
              "    <tr>\n",
              "      <th>body</th>\n",
              "      <td>0.035238</td>\n",
              "      <td>1.000000</td>\n",
              "      <td>-0.186112</td>\n",
              "      <td>-0.081206</td>\n",
              "      <td>-0.110851</td>\n",
              "      <td>-0.193508</td>\n",
              "      <td>-0.231739</td>\n",
              "    </tr>\n",
              "    <tr>\n",
              "      <th>engType</th>\n",
              "      <td>-0.019100</td>\n",
              "      <td>-0.186112</td>\n",
              "      <td>1.000000</td>\n",
              "      <td>0.149166</td>\n",
              "      <td>-0.176048</td>\n",
              "      <td>-0.080248</td>\n",
              "      <td>-0.051929</td>\n",
              "    </tr>\n",
              "    <tr>\n",
              "      <th>registration</th>\n",
              "      <td>0.106391</td>\n",
              "      <td>-0.081206</td>\n",
              "      <td>0.149166</td>\n",
              "      <td>1.000000</td>\n",
              "      <td>0.073464</td>\n",
              "      <td>-0.063779</td>\n",
              "      <td>0.085316</td>\n",
              "    </tr>\n",
              "    <tr>\n",
              "      <th>model</th>\n",
              "      <td>0.138138</td>\n",
              "      <td>-0.110851</td>\n",
              "      <td>-0.176048</td>\n",
              "      <td>0.073464</td>\n",
              "      <td>1.000000</td>\n",
              "      <td>-0.007053</td>\n",
              "      <td>0.104126</td>\n",
              "    </tr>\n",
              "    <tr>\n",
              "      <th>drive</th>\n",
              "      <td>-0.198291</td>\n",
              "      <td>-0.193508</td>\n",
              "      <td>-0.080248</td>\n",
              "      <td>-0.063779</td>\n",
              "      <td>-0.007053</td>\n",
              "      <td>1.000000</td>\n",
              "      <td>0.258619</td>\n",
              "    </tr>\n",
              "    <tr>\n",
              "      <th>category</th>\n",
              "      <td>-0.126228</td>\n",
              "      <td>-0.231739</td>\n",
              "      <td>-0.051929</td>\n",
              "      <td>0.085316</td>\n",
              "      <td>0.104126</td>\n",
              "      <td>0.258619</td>\n",
              "      <td>1.000000</td>\n",
              "    </tr>\n",
              "  </tbody>\n",
              "</table>\n",
              "</div>"
            ],
            "text/plain": [
              "                   car      body   engType  ...     model     drive  category\n",
              "car           1.000000  0.035238 -0.019100  ...  0.138138 -0.198291 -0.126228\n",
              "body          0.035238  1.000000 -0.186112  ... -0.110851 -0.193508 -0.231739\n",
              "engType      -0.019100 -0.186112  1.000000  ... -0.176048 -0.080248 -0.051929\n",
              "registration  0.106391 -0.081206  0.149166  ...  0.073464 -0.063779  0.085316\n",
              "model         0.138138 -0.110851 -0.176048  ...  1.000000 -0.007053  0.104126\n",
              "drive        -0.198291 -0.193508 -0.080248  ... -0.007053  1.000000  0.258619\n",
              "category     -0.126228 -0.231739 -0.051929  ...  0.104126  0.258619  1.000000\n",
              "\n",
              "[7 rows x 7 columns]"
            ]
          },
          "metadata": {},
          "execution_count": 49
        }
      ]
    },
    {
      "cell_type": "markdown",
      "metadata": {
        "id": "9HgIQrQtLD5_"
      },
      "source": [
        "**Observations:**\n",
        "- We tried to find a correlation between between the categorical columns however none is showing strong correlation"
      ]
    },
    {
      "cell_type": "markdown",
      "metadata": {
        "id": "Pqk4cV2wrIIZ"
      },
      "source": [
        "---\n",
        "<a name = Section9></a>\n",
        "# **9. Summarization**\n",
        "---"
      ]
    },
    {
      "cell_type": "markdown",
      "metadata": {
        "id": "wducAS9QrPfZ"
      },
      "source": [
        "<a name = Section91></a>\n",
        "### **9.1 Conclusion**\n",
        "\n",
        "Some of the key take aways are as below:\n",
        "\n",
        "- Car prices decreases over time (Car Depreciation)\n",
        "- 2007 & 2008 car volume is higher than usual\n",
        "- Volkswagen followed by Mercedes-Benz are the top two brands available for sale\n",
        "- Approx 89% cars are 'Executive'class i.e. priced up to 30000 dollars\n",
        "- Approx 6% cars are 'Premium' class i.e. priced between 30,000 & 50,000 dollars\n",
        "- Approx 5% cars are 'Luxury' class i.e. priced higher than 50,000 dollar\n",
        "- Sedan cars are preferred in Executive class while Crossover cars in Premium & Luxury class\n",
        "- The most preferred cars are Petrol followed by Diesel\n",
        "- Gas cars are the most economic in terms of price as well as fuel efficency\n",
        "- Sedan is all time favorite car followed by crossover\n",
        "- Crossover cars are mostly full drive"
      ]
    },
    {
      "cell_type": "markdown",
      "metadata": {
        "id": "z3MtiiACrVJq"
      },
      "source": [
        "<a name = Section92></a>\n",
        "### **9.2 Actionable Insights**\n",
        "\n",
        "- Car prices being the most critical parameter needs an effective pricing system that can consider all factors that decides a car price.\n",
        "\n",
        "- Crossover Petrol variant can be recommended to high profile customers\n",
        "\n",
        "- Gas variant being the cheapest & fuel efficient can be recommended for customers looking for an economic car\n",
        "\n",
        "- Old cars specially year 2007 & 2008 cars should be sold at special discount or attractive deals to clear the stock\n",
        "\n",
        "- Year end sale with discounts can help to sale cars faster and at the right price"
      ]
    }
  ]
}